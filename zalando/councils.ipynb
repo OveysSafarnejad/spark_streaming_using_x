{
 "cells": [
  {
   "cell_type": "code",
   "execution_count": 4,
   "id": "90e244ec-97a2-4cc3-9e95-d955073b4e39",
   "metadata": {},
   "outputs": [],
   "source": [
    "import os\n",
    "import findspark\n",
    "from pyspark.sql import SparkSession\n",
    "from pyspark import pandas\n",
    "from pyspark.sql.functions import col, input_file_name, when, regexp_extract, lit\n",
    "\n",
    "\n",
    "findspark.init()\n",
    "pandas.set_option('display.max_rows', 10000)\n"
   ]
  },
  {
   "cell_type": "code",
   "execution_count": 2,
   "id": "3ec3c65a-5f94-47d9-9d80-d7cee15e6315",
   "metadata": {},
   "outputs": [
    {
     "name": "stderr",
     "output_type": "stream",
     "text": [
      "24/03/25 22:13:16 WARN SparkSession: Using an existing Spark session; only runtime SQL configurations will take effect.\n"
     ]
    }
   ],
   "source": [
    "spark = SparkSession.builder.master('local').appName(\n",
    "    name='councils'\n",
    ").getOrCreate()"
   ]
  },
  {
   "cell_type": "code",
   "execution_count": 5,
   "id": "1a792a26-de91-412d-a5a9-2b1f1c74df13",
   "metadata": {},
   "outputs": [],
   "source": [
    "# council_types = {\n",
    "#     \"district_councils.csv\": \"District Council\",\n",
    "#     \"london_boroughs.csv\": \"London Borough\",\n",
    "#     \"metropolitan_districts.csv\": \"Metropolitan District\",\n",
    "#     \"unitary_authorities.csv\": \"Unitary Authority\"\n",
    "# }\n",
    "\n",
    "# councils_df = councils_df.withColumn(\"council_type\",  regexp_extract(input_file_name(), r'[^/]+(?=\\.csv)', 0))\n",
    "\n",
    "# councils_df = councils_df.withColumn(\"council_type\", \n",
    "#    when(councils_df[\"council_type\"] == \"district_councils\", \"A\")\n",
    "#    .when(councils_df[\"council_type\"] == \"london_boroughs\", \"B\")\n",
    "#    .when(councils_df[\"council_type\"] == \"metropolitan_districts\", \"C\")\n",
    "#    .when(councils_df[\"council_type\"] == \"unitary_authorities.csv\", \"D\")\n",
    "#    .otherwise(\"Unknown\")\n",
    "# )\n",
    "\n",
    "\n",
    "district_councils = spark.read.option('header', 'true').csv(\n",
    "    './resources/england_councils/district_councils.csv'\n",
    ").withColumn('council_type', lit(\"District Council\"))\n",
    "\n",
    "london_boroughs = spark.read.option('header', 'true').csv(\n",
    "    './resources/england_councils/london_boroughs.csv'\n",
    ").withColumn('council_type', lit(\"London Borough\"))\n",
    "\n",
    "metropolitan_districts = spark.read.option('header', 'true').csv(\n",
    "    './resources/england_councils/metropolitan_districts.csv'\n",
    ").withColumn('council_type', lit(\"Metropolitan District\"))\n",
    "\n",
    "unitary_authorities = spark.read.option('header', 'true').csv(\n",
    "    './resources/england_councils/unitary_authorities.csv'\n",
    ").withColumn('council_type', lit(\"Unitary Authority\"))\n",
    "\n",
    "\n"
   ]
  },
  {
   "cell_type": "code",
   "execution_count": null,
   "id": "8efc122b-8edb-45e9-9728-4943bb41e0e5",
   "metadata": {},
   "outputs": [],
   "source": [
    "district_councils."
   ]
  },
  {
   "cell_type": "code",
   "execution_count": null,
   "id": "136cd353-9ef3-4ada-98ca-40b047176d92",
   "metadata": {},
   "outputs": [],
   "source": [
    "councils_df = district_councils.union(london_boroughs).union(metropolitan_districts).union(unitary_authorities).distinct()"
   ]
  },
  {
   "cell_type": "code",
   "execution_count": 182,
   "id": "3cd95e31-0ad4-4b8e-bac3-47270f38c2cb",
   "metadata": {},
   "outputs": [
    {
     "data": {
      "text/plain": [
       "316"
      ]
     },
     "execution_count": 182,
     "metadata": {},
     "output_type": "execute_result"
    }
   ],
   "source": [
    "councils_df.count()"
   ]
  },
  {
   "cell_type": "code",
   "execution_count": 183,
   "id": "e84b91d2-ef38-448b-aac2-877aa2208c6e",
   "metadata": {},
   "outputs": [],
   "source": [
    "prop_price_df = spark.read.option(\n",
    "    'header', 'true'\n",
    ").csv(\n",
    "    './resources/property_avg_price.csv'\n",
    ").selectExpr(\n",
    "    'local_authority as council', 'avg_price_nov_2019'\n",
    ").distinct()"
   ]
  },
  {
   "cell_type": "code",
   "execution_count": 184,
   "id": "ea6a0d8c-914d-4974-87a3-412fbdc72427",
   "metadata": {},
   "outputs": [
    {
     "data": {
      "text/plain": [
       "353"
      ]
     },
     "execution_count": 184,
     "metadata": {},
     "output_type": "execute_result"
    }
   ],
   "source": [
    "prop_price_df.count()"
   ]
  },
  {
   "cell_type": "code",
   "execution_count": 185,
   "id": "49a94725-f066-4adb-b9d3-23c95f61b6e6",
   "metadata": {},
   "outputs": [],
   "source": [
    "sales_vol_df = spark.read.option(\n",
    "    'header', 'true'\n",
    ").csv(\n",
    "    './resources/property_sales_volume.csv'\n",
    ").selectExpr(\n",
    "    'local_authority as council', 'sales_volume_sep_2019'\n",
    ").distinct()"
   ]
  },
  {
   "cell_type": "code",
   "execution_count": 186,
   "id": "7be9082b-0012-4055-9e1d-e613a55faac3",
   "metadata": {},
   "outputs": [
    {
     "data": {
      "text/plain": [
       "353"
      ]
     },
     "execution_count": 186,
     "metadata": {},
     "output_type": "execute_result"
    }
   ],
   "source": [
    "sales_vol_df.count()"
   ]
  },
  {
   "cell_type": "code",
   "execution_count": null,
   "id": "34b7c2b6-4c29-419f-a2a5-4cb629a8d5d3",
   "metadata": {},
   "outputs": [],
   "source": [
    "joined_df = councils_df.join(\n",
    "    prop_price_df, on='council', how='left_outer'\n",
    ").join(\n",
    "    sales_vol_df, on='council', how='left_outer'\n",
    ")\n",
    "joined_df.show(joined_df.count())"
   ]
  },
  {
   "cell_type": "code",
   "execution_count": null,
   "id": "e2a1d4b5-bd80-4e96-b5a0-d7e18909f812",
   "metadata": {},
   "outputs": [],
   "source": [
    "\n",
    "\n",
    "\n",
    "\n",
    "\n"
   ]
  },
  {
   "cell_type": "code",
   "execution_count": 73,
   "id": "1581cc05-65ce-46c8-ad2b-a9000a784c73",
   "metadata": {},
   "outputs": [
    {
     "name": "stdout",
     "output_type": "stream",
     "text": [
      "INNER\n",
      "+-----+---+-----------+\n",
      "| name|age|       city|\n",
      "+-----+---+-----------+\n",
      "|Alice| 30|Los Angeles|\n",
      "|  Bob| 35|    Chicago|\n",
      "| John| 25|   New York|\n",
      "+-----+---+-----------+\n",
      "\n",
      "Left Outer\n",
      "+-----+---+-----------+\n",
      "| name|age|       city|\n",
      "+-----+---+-----------+\n",
      "| John| 25|   New York|\n",
      "|Alice| 30|Los Angeles|\n",
      "|  Bob| 35|    Chicago|\n",
      "|  Ala| 50|       NULL|\n",
      "+-----+---+-----------+\n",
      "\n",
      "Right Outer\n"
     ]
    },
    {
     "name": "stderr",
     "output_type": "stream",
     "text": [
      "                                                                                \r"
     ]
    },
    {
     "name": "stdout",
     "output_type": "stream",
     "text": [
      "+-----+----+-----------+\n",
      "| name| age|       city|\n",
      "+-----+----+-----------+\n",
      "| John|  25|   New York|\n",
      "|Alice|  30|Los Angeles|\n",
      "|  Bob|  35|    Chicago|\n",
      "|Oveys|NULL|      Rasht|\n",
      "+-----+----+-----------+\n",
      "\n",
      "Full Outer\n",
      "+-----+----+-----------+\n",
      "| name| age|       city|\n",
      "+-----+----+-----------+\n",
      "|  Ala|  50|       NULL|\n",
      "|Alice|  30|Los Angeles|\n",
      "|  Bob|  35|    Chicago|\n",
      "| John|  25|   New York|\n",
      "|Oveys|NULL|      Rasht|\n",
      "+-----+----+-----------+\n",
      "\n"
     ]
    },
    {
     "name": "stderr",
     "output_type": "stream",
     "text": [
      "                                                                                \r"
     ]
    },
    {
     "name": "stdout",
     "output_type": "stream",
     "text": [
      "+-----+---+\n",
      "| name|age|\n",
      "+-----+---+\n",
      "|Alice| 30|\n",
      "|  Bob| 35|\n",
      "| John| 25|\n",
      "+-----+---+\n",
      "\n",
      "+----+---+\n",
      "|name|age|\n",
      "+----+---+\n",
      "| Ala| 50|\n",
      "+----+---+\n",
      "\n"
     ]
    },
    {
     "name": "stderr",
     "output_type": "stream",
     "text": [
      "                                                                                \r"
     ]
    }
   ],
   "source": [
    "data1 = [(\"John\", 25), (\"Alice\", 30), (\"Bob\", 35), (\"Ala\", 50)]\n",
    "df1 = spark.createDataFrame(data1, [\"name\", \"age\"])\n",
    "\n",
    "data2 = [(\"John\", \"New York\"), (\"Alice\", \"Los Angeles\"), (\"Bob\", \"Chicago\"), (\"Oveys\", \"Rasht\")]\n",
    "df2 = spark.createDataFrame(data2, [\"name\", \"city\"])\n",
    "\n",
    "# Inner join\n",
    "inner_join_df = df1.join(df2, on=\"name\", how=\"inner\")\n",
    "print(\"INNER\")\n",
    "inner_join_df.show()\n",
    "\n",
    "# Left outer join\n",
    "left_outer_join_df = df1.join(df2, on=\"name\", how=\"left\")\n",
    "print(\"Left Outer\")\n",
    "left_outer_join_df.show()\n",
    "\n",
    "# Right outer join\n",
    "right_outer_join_df = df1.join(df2, on=\"name\", how=\"right\")\n",
    "print(\"Right Outer\")\n",
    "right_outer_join_df.show()\n",
    "\n",
    "# Full outer join\n",
    "full_outer_join_df = df1.join(df2, on=\"name\", how=\"full\")\n",
    "print(\"Full Outer\")\n",
    "full_outer_join_df.show()\n",
    "\n",
    "# Left semi join\n",
    "left_semi_join_df = df1.join(df2, on=\"name\", how=\"left_semi\")\n",
    "\n",
    "left_semi_join_df.show()\n",
    "\n",
    "# Left anti join\n",
    "left_anti_join_df = df1.join(df2, on=\"name\", how=\"left_anti\")\n",
    "left_anti_join_df.show()\n"
   ]
  },
  {
   "cell_type": "code",
   "execution_count": null,
   "id": "5b076503-d5a4-425a-ad40-da2ead4934b3",
   "metadata": {},
   "outputs": [],
   "source": []
  }
 ],
 "metadata": {
  "kernelspec": {
   "display_name": "Python 3 (ipykernel)",
   "language": "python",
   "name": "python3"
  },
  "language_info": {
   "codemirror_mode": {
    "name": "ipython",
    "version": 3
   },
   "file_extension": ".py",
   "mimetype": "text/x-python",
   "name": "python",
   "nbconvert_exporter": "python",
   "pygments_lexer": "ipython3",
   "version": "3.11.0"
  }
 },
 "nbformat": 4,
 "nbformat_minor": 5
}
