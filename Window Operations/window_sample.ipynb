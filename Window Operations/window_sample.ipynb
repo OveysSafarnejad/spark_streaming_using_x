{
 "cells": [
  {
   "cell_type": "code",
   "execution_count": null,
   "id": "8b95de7b-daec-4b83-82e2-3b8b5c84548d",
   "metadata": {},
   "outputs": [],
   "source": [
    "import os\n",
    "import findspark\n",
    "\n",
    "os.environ['SPARK_HOME'] = '/Users/audioworkstation/Documents/WORKSPACE/LEARNING/spark_streaming_using_x/spark-3.5.0-bin-hadoop3'\n",
    "os.environ['PYSPARK_DRIVER_PYTHON'] = 'jupyter'\n",
    "os.environ['PYSPARK_DRIVER_PYTHON_OPTS'] = 'lab'\n",
    "os.environ['PYSPARK_PYTHON'] = 'python'\n",
    "\n",
    "\n",
    "findspark.init()\n",
    "from pyspark import SparkContext\n",
    "from pyspark.streaming import StreamingContext\n",
    "\n"
   ]
  },
  {
   "cell_type": "code",
   "execution_count": null,
   "id": "261bd275-d5ab-4446-ae57-e93854dbc55c",
   "metadata": {},
   "outputs": [],
   "source": [
    "sc = SparkContext(appName='Window Operation')\n",
    "ssc = StreamingContext(sparkContext=sc, batchDuration=1)"
   ]
  },
  {
   "cell_type": "code",
   "execution_count": null,
   "id": "30f06350-d5e8-43da-861f-2330af6e3bdf",
   "metadata": {},
   "outputs": [],
   "source": [
    "def reduce_by_key(rdd):\n",
    "    return rdd.reduceByKey(lambda a, b: a + b)\n",
    "\n",
    "socket_stream = ssc.socketTextStream(hostname='127.0.0.1', port=5555)\n",
    "words_pairs = socket_stream.flatMap(lambda l: l.split(\" \")).map(lambda word: (word, 1)).transform(reduce_by_key)\n"
   ]
  },
  {
   "cell_type": "code",
   "execution_count": null,
   "id": "6656956e-6ae9-47e2-9c63-d0ffd429b0b7",
   "metadata": {},
   "outputs": [],
   "source": [
    "words_pairs.window(windowDuration=30, slideDuration=10).pprint()"
   ]
  },
  {
   "cell_type": "code",
   "execution_count": null,
   "id": "91c1e770-d3b7-4b60-9f91-69cdaa7e2675",
   "metadata": {},
   "outputs": [],
   "source": [
    "ssc.start()\n"
   ]
  },
  {
   "cell_type": "code",
   "execution_count": null,
   "id": "7457bce4-b85e-493a-a0af-84ee218f7358",
   "metadata": {},
   "outputs": [],
   "source": []
  }
 ],
 "metadata": {
  "kernelspec": {
   "display_name": "Python 3 (ipykernel)",
   "language": "python",
   "name": "python3"
  },
  "language_info": {
   "codemirror_mode": {
    "name": "ipython",
    "version": 3
   },
   "file_extension": ".py",
   "mimetype": "text/x-python",
   "name": "python",
   "nbconvert_exporter": "python",
   "pygments_lexer": "ipython3",
   "version": "3.10.11"
  }
 },
 "nbformat": 4,
 "nbformat_minor": 5
}
