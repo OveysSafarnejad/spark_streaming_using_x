{
 "cells": [
  {
   "cell_type": "code",
   "execution_count": 1,
   "id": "ace4cf09-5008-4b2d-b671-143983f5b9fc",
   "metadata": {},
   "outputs": [
    {
     "name": "stderr",
     "output_type": "stream",
     "text": [
      "Setting default log level to \"WARN\".\n",
      "To adjust logging level use sc.setLogLevel(newLevel). For SparkR, use setLogLevel(newLevel).\n",
      "23/11/14 17:59:32 WARN NativeCodeLoader: Unable to load native-hadoop library for your platform... using builtin-java classes where applicable\n",
      "/Users/audioworkstation/Documents/WORKSPACE/LEARNING/spark_streaming_using_x/spark-3.5.0-bin-hadoop3/python/pyspark/streaming/context.py:72: FutureWarning: DStream is deprecated as of Spark 3.4.0. Migrate to Structured Streaming.\n",
      "  warnings.warn(\n"
     ]
    }
   ],
   "source": [
    "import os\n",
    "import findspark\n",
    "\n",
    "\n",
    "os.environ['SPARK_HOME'] = '/Users/audioworkstation/Documents/WORKSPACE/LEARNING/spark_streaming_using_x/spark-3.5.0-bin-hadoop3'\n",
    "os.environ['PYSPARK_DRIVER_PYTHON'] = 'jupyter'\n",
    "os.environ['PYSPARK_DRIVER_PYTHON_OPTS'] = 'lab'\n",
    "os.environ['PYSPARK_PYTHON'] = 'python'\n",
    "\n",
    "findspark.init()\n",
    "findspark.find()\n",
    "\n",
    "from pyspark import SparkContext\n",
    "from pyspark.streaming import StreamingContext\n",
    "sc = SparkContext(appName='Transformations')\n",
    "ssc = StreamingContext(sc,  batchDuration=5)"
   ]
  },
  {
   "cell_type": "code",
   "execution_count": 2,
   "id": "98cc9156-a447-4ee9-8e7c-78acd1f53cd8",
   "metadata": {},
   "outputs": [],
   "source": [
    "queue_stream = ssc.queueStream(\n",
    "    rdds=[sc.parallelize([(1, 'a'), (2, 'b'),(1, 'c'), (2, 'f'),(2, 'd'), (3, 'a')])],\n",
    "    oneAtATime=True\n",
    ")\n"
   ]
  },
  {
   "cell_type": "markdown",
   "id": "a83af51c-b5d9-4eed-8d5d-433de57bcfeb",
   "metadata": {},
   "source": [
    "# Reduce"
   ]
  },
  {
   "cell_type": "code",
   "execution_count": 3,
   "id": "70a6b85b-2c7e-4efb-ba9f-4dc7680fcaa6",
   "metadata": {},
   "outputs": [],
   "source": [
    "max_stream = queue_stream.reduce(max)\n",
    "max_stream.pprint()"
   ]
  },
  {
   "cell_type": "code",
   "execution_count": 4,
   "id": "75fce956-b3c7-4d57-b145-c212f4bd0fab",
   "metadata": {},
   "outputs": [
    {
     "name": "stderr",
     "output_type": "stream",
     "text": [
      "                                                                                \r"
     ]
    },
    {
     "name": "stdout",
     "output_type": "stream",
     "text": [
      "-------------------------------------------\n",
      "Time: 2023-11-14 17:59:40\n",
      "-------------------------------------------\n",
      "(3, 'a')\n",
      "\n"
     ]
    }
   ],
   "source": [
    "ssc.start()"
   ]
  },
  {
   "cell_type": "code",
   "execution_count": 5,
   "id": "014b8486-b08f-4db5-ab8f-0aa973ac6df9",
   "metadata": {},
   "outputs": [
    {
     "name": "stdout",
     "output_type": "stream",
     "text": [
      "-------------------------------------------\n",
      "Time: 2023-11-14 17:59:45\n",
      "-------------------------------------------\n",
      "\n",
      "-------------------------------------------\n",
      "Time: 2023-11-14 17:59:50\n",
      "-------------------------------------------\n",
      "\n"
     ]
    }
   ],
   "source": [
    "ssc.stop(stopSparkContext=True, stopGraceFully=True)"
   ]
  }
 ],
 "metadata": {
  "kernelspec": {
   "display_name": "Python 3 (ipykernel)",
   "language": "python",
   "name": "python3"
  },
  "language_info": {
   "codemirror_mode": {
    "name": "ipython",
    "version": 3
   },
   "file_extension": ".py",
   "mimetype": "text/x-python",
   "name": "python",
   "nbconvert_exporter": "python",
   "pygments_lexer": "ipython3",
   "version": "3.10.11"
  }
 },
 "nbformat": 4,
 "nbformat_minor": 5
}
