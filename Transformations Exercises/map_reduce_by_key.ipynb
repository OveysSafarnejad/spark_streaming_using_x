{
 "cells": [
  {
   "cell_type": "code",
   "execution_count": 1,
   "id": "0dcd6f3e-c17b-47eb-b7a2-b9808307014d",
   "metadata": {},
   "outputs": [
    {
     "name": "stderr",
     "output_type": "stream",
     "text": [
      "Setting default log level to \"WARN\".\n",
      "To adjust logging level use sc.setLogLevel(newLevel). For SparkR, use setLogLevel(newLevel).\n",
      "23/11/14 17:58:02 WARN NativeCodeLoader: Unable to load native-hadoop library for your platform... using builtin-java classes where applicable\n",
      "/Users/audioworkstation/Documents/WORKSPACE/LEARNING/spark_streaming_using_x/spark-3.5.0-bin-hadoop3/python/pyspark/streaming/context.py:72: FutureWarning: DStream is deprecated as of Spark 3.4.0. Migrate to Structured Streaming.\n",
      "  warnings.warn(\n"
     ]
    }
   ],
   "source": [
    "import os\n",
    "import findspark\n",
    "\n",
    "\n",
    "os.environ['SPARK_HOME'] = '/Users/audioworkstation/Documents/WORKSPACE/LEARNING/spark_streaming_using_x/spark-3.5.0-bin-hadoop3'\n",
    "os.environ['PYSPARK_DRIVER_PYTHON'] = 'jupyter'\n",
    "os.environ['PYSPARK_DRIVER_PYTHON_OPTS'] = 'lab'\n",
    "os.environ['PYSPARK_PYTHON'] = 'python'\n",
    "\n",
    "findspark.init()\n",
    "findspark.find()\n",
    "\n",
    "from pyspark import SparkContext\n",
    "from pyspark.streaming import StreamingContext\n",
    "sc = SparkContext(appName='Transformations')\n",
    "ssc = StreamingContext(sc,  batchDuration=1)"
   ]
  },
  {
   "cell_type": "code",
   "execution_count": 2,
   "id": "85c51759-bb4c-42ee-b54b-2a6ed31b4f8e",
   "metadata": {},
   "outputs": [],
   "source": [
    "import time\n",
    "rddQueue = []\n",
    "for i in range(5):\n",
    "    rddQueue += [ssc.sparkContext.parallelize([j for j in range(1, 1001)], 10)] # 10 is the number of slices"
   ]
  },
  {
   "cell_type": "markdown",
   "id": "6e7ec154-2052-476e-a1fa-f37aacf6a3e0",
   "metadata": {},
   "source": [
    "# reduceByKey"
   ]
  },
  {
   "cell_type": "code",
   "execution_count": 3,
   "id": "abeae235-10da-4907-b4a7-fc448d2ef9a6",
   "metadata": {},
   "outputs": [
    {
     "name": "stderr",
     "output_type": "stream",
     "text": [
      "                                                                                \r"
     ]
    },
    {
     "name": "stdout",
     "output_type": "stream",
     "text": [
      "-------------------------------------------\n",
      "Time: 2023-11-14 17:58:32\n",
      "-------------------------------------------\n",
      "(8, 100)\n",
      "(0, 100)\n",
      "(1, 100)\n",
      "(9, 100)\n",
      "(2, 100)\n",
      "(3, 100)\n",
      "(4, 100)\n",
      "(5, 100)\n",
      "(6, 100)\n",
      "(7, 100)\n",
      "\n",
      "-------------------------------------------\n",
      "Time: 2023-11-14 17:58:33\n",
      "-------------------------------------------\n",
      "(8, 100)\n",
      "(0, 100)\n",
      "(1, 100)\n",
      "(9, 100)\n",
      "(2, 100)\n",
      "(3, 100)\n",
      "(4, 100)\n",
      "(5, 100)\n",
      "(6, 100)\n",
      "(7, 100)\n",
      "\n",
      "-------------------------------------------\n",
      "Time: 2023-11-14 17:58:34\n",
      "-------------------------------------------\n",
      "(8, 100)\n",
      "(0, 100)\n",
      "(1, 100)\n",
      "(9, 100)\n",
      "(2, 100)\n",
      "(3, 100)\n",
      "(4, 100)\n",
      "(5, 100)\n",
      "(6, 100)\n",
      "(7, 100)\n",
      "\n",
      "-------------------------------------------\n",
      "Time: 2023-11-14 17:58:35\n",
      "-------------------------------------------\n",
      "(8, 100)\n",
      "(0, 100)\n",
      "(1, 100)\n",
      "(9, 100)\n",
      "(2, 100)\n",
      "(3, 100)\n",
      "(4, 100)\n",
      "(5, 100)\n",
      "(6, 100)\n",
      "(7, 100)\n",
      "\n",
      "-------------------------------------------\n",
      "Time: 2023-11-14 17:58:36\n",
      "-------------------------------------------\n",
      "(8, 100)\n",
      "(0, 100)\n",
      "(1, 100)\n",
      "(9, 100)\n",
      "(2, 100)\n",
      "(3, 100)\n",
      "(4, 100)\n",
      "(5, 100)\n",
      "(6, 100)\n",
      "(7, 100)\n",
      "\n",
      "-------------------------------------------\n",
      "Time: 2023-11-14 17:58:37\n",
      "-------------------------------------------\n",
      "\n",
      "-------------------------------------------\n",
      "Time: 2023-11-14 17:58:38\n",
      "-------------------------------------------\n",
      "\n",
      "-------------------------------------------\n",
      "Time: 2023-11-14 17:58:39\n",
      "-------------------------------------------\n",
      "\n"
     ]
    }
   ],
   "source": [
    "inputStream = ssc.queueStream(rddQueue)\n",
    "mappedStream = inputStream.map(lambda x: (x % 10, 1))\n",
    "reducedStream = mappedStream.reduceByKey(lambda a, b: a + b)\n",
    "reducedStream.pprint()\n",
    "\n",
    "ssc.start()\n",
    "time.sleep(6)\n",
    "ssc.stop(stopSparkContext=True, stopGraceFully=True)"
   ]
  },
  {
   "cell_type": "code",
   "execution_count": null,
   "id": "13757b42-a32e-4abd-9424-6887a59501c6",
   "metadata": {},
   "outputs": [],
   "source": []
  }
 ],
 "metadata": {
  "kernelspec": {
   "display_name": "Python 3 (ipykernel)",
   "language": "python",
   "name": "python3"
  },
  "language_info": {
   "codemirror_mode": {
    "name": "ipython",
    "version": 3
   },
   "file_extension": ".py",
   "mimetype": "text/x-python",
   "name": "python",
   "nbconvert_exporter": "python",
   "pygments_lexer": "ipython3",
   "version": "3.10.11"
  }
 },
 "nbformat": 4,
 "nbformat_minor": 5
}
