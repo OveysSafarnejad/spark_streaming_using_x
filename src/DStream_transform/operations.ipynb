{
 "cells": [
  {
   "cell_type": "code",
   "execution_count": 1,
   "id": "e11fcdcb-f35b-4af2-885f-84bd2f197ad1",
   "metadata": {},
   "outputs": [],
   "source": [
    "import os\n",
    "import pathlib\n",
    "import findspark\n",
    "\n",
    "from pyspark import SparkContext\n",
    "from pyspark.sql import SparkSession\n",
    "from pyspark.streaming import StreamingContext\n",
    "from pyspark import SparkConf\n",
    "\n",
    "from apache_log_parser import ApacheAccessLog\n",
    "\n",
    "findspark.init()"
   ]
  },
  {
   "cell_type": "markdown",
   "id": "cc85267c-4603-4c88-8ec9-1fef060ce68d",
   "metadata": {},
   "source": [
    "# apache log parser example"
   ]
  },
  {
   "cell_type": "code",
   "execution_count": 2,
   "id": "4d4edce2-d186-489d-a3b6-c0130129dcb2",
   "metadata": {},
   "outputs": [
    {
     "name": "stderr",
     "output_type": "stream",
     "text": [
      "Setting default log level to \"WARN\".\n",
      "To adjust logging level use sc.setLogLevel(newLevel). For SparkR, use setLogLevel(newLevel).\n",
      "24/03/26 14:02:21 WARN NativeCodeLoader: Unable to load native-hadoop library for your platform... using builtin-java classes where applicable\n",
      "24/03/26 14:02:22 WARN Utils: Service 'SparkUI' could not bind on port 4040. Attempting port 4041.\n",
      "/Users/hso/Documents/WORKSPACE/LEARNING/spark_streaming_using_x/.venv/lib/python3.11/site-packages/pyspark/streaming/context.py:72: FutureWarning: DStream is deprecated as of Spark 3.4.0. Migrate to Structured Streaming.\n",
      "  warnings.warn(\n"
     ]
    }
   ],
   "source": [
    "conf = (SparkConf().setMaster('local[2]').setAppName('TextUpdater').set('spark.executer.memory', '2g'))\n",
    "sc = SparkContext(conf=conf)\n",
    "ssc = StreamingContext(sparkContext=sc, batchDuration=30)"
   ]
  },
  {
   "cell_type": "code",
   "execution_count": 3,
   "id": "3df91859-1695-455a-8d31-f68de350a152",
   "metadata": {},
   "outputs": [],
   "source": [
    "ssc.checkpoint('MyCheckPoint')"
   ]
  },
  {
   "cell_type": "code",
   "execution_count": 4,
   "id": "1b09acae-0936-45f3-98e6-c230e3554620",
   "metadata": {},
   "outputs": [],
   "source": [
    "curr = pathlib.Path().resolve()\n",
    "logs_directory = os.path.join(curr / 'logs')"
   ]
  },
  {
   "cell_type": "code",
   "execution_count": 5,
   "id": "12ad5558-406d-4934-bd74-bda241d7cf44",
   "metadata": {},
   "outputs": [
    {
     "data": {
      "text/plain": [
       "'/Users/hso/Documents/WORKSPACE/LEARNING/spark_streaming_using_x/src/DStream_transform/logs'"
      ]
     },
     "execution_count": 5,
     "metadata": {},
     "output_type": "execute_result"
    }
   ],
   "source": [
    "logs_directory"
   ]
  },
  {
   "cell_type": "code",
   "execution_count": 6,
   "id": "ab0fa912-a442-4b70-85ec-cb34b9b25ccd",
   "metadata": {},
   "outputs": [],
   "source": [
    "log_data = ssc.textFileStream(logs_directory)\n",
    "\n",
    "# in this code log_data is a DStream of RDDs. Data that received in each batch would be a single RDD with 0 or many items (items are lines of text here).\n",
    "# so the input for the map function is a single element or text line from the batch RDD.   \n",
    "# so each line in the log file would be mapped to an ApacheAccessLog instance or a None\n",
    "\n",
    "access_log_dstream = log_data.map(\n",
    "    ApacheAccessLog.parse_from_log_line\n",
    ").filter(\n",
    "    lambda parsed_line: parsed_line is not None\n",
    ")\n",
    "\n",
    "access_log_dstream.pprint(num=30)"
   ]
  },
  {
   "cell_type": "code",
   "execution_count": 7,
   "id": "d468d2bb-7f93-4736-ab69-d95ff2e960f2",
   "metadata": {},
   "outputs": [],
   "source": [
    "def map_ip_values(rdd):\n",
    "    return rdd.map(lambda parsed_line: (parsed_line.ip, 1))"
   ]
  },
  {
   "cell_type": "markdown",
   "id": "5c910e01-4a3e-4143-bbfc-205f3d1886aa",
   "metadata": {},
   "source": [
    "### functions that are supplied to transform get called in every batch interval\n",
    "### means that we can create operations for rdds that vary by time\n",
    "\n",
    "# BUT WHAT IS THE DIFFERENCE BETWEEN THESE TWO LINES BELOW?"
   ]
  },
  {
   "cell_type": "markdown",
   "id": "18595070-805a-4874-8530-a68e8cfa6f2b",
   "metadata": {},
   "source": [
    "### This (transform) is useful when you need to perform operations that involve the entire batch, such as aggregations, sorting, or any operation that requires context across multiple elements.\n",
    "\n",
    "### map produces a one-to-one transformation, meaning each input element produces exactly one output element.\n",
    "### transform allows you to produce a different number of output elements than the number of input elements. This can be useful in various scenarios.\n",
    "\n",
    "### here's an example:\n",
    "```\n",
    "def complex_transform(rdd):\n",
    "    # Perform a complex transformation on the entire batch\n",
    "    # This function can involve filtering, sorting, or any custom logic\n",
    "    return rdd.filter(lambda x: x > 5).map(lambda x: (x, x * 2))\n",
    "\n",
    "transformed_dstream = original_dstream.transform(complex_transform)\n",
    "\n",
    "```"
   ]
  },
  {
   "cell_type": "code",
   "execution_count": 8,
   "id": "187dc727-6520-408f-82ff-ef5431df8d33",
   "metadata": {},
   "outputs": [],
   "source": [
    "transformed_access_log_dstream = access_log_dstream.transform(map_ip_values)  # It's like saying: \"For the entire set of log entries, do this specific operation.\"\n",
    "# transformed_access_log_dstream = access_log_dstream.map(lambda parsed_line: (parsed_line.ip, 1)) # It's like saying: \"For each log entry, give me a tuple with the IP and a 1.\"\n",
    "\n",
    "\n",
    "transformed_access_log_dstream.pprint(num=30)"
   ]
  },
  {
   "cell_type": "code",
   "execution_count": 9,
   "id": "5149e9e2-2043-4585-b8f0-e4a0cea15185",
   "metadata": {
    "scrolled": true
   },
   "outputs": [],
   "source": [
    "ssc.start()"
   ]
  },
  {
   "cell_type": "markdown",
   "id": "cae6ba3b-9713-41d0-ae48-4f126994213b",
   "metadata": {},
   "source": [
    "##### after starting ssc you can move your logs into the log folder"
   ]
  },
  {
   "cell_type": "code",
   "execution_count": null,
   "id": "e91a42ef-7476-4c68-a95f-b927d30aeace",
   "metadata": {},
   "outputs": [
    {
     "name": "stdout",
     "output_type": "stream",
     "text": [
      "-------------------------------------------\n",
      "Time: 2024-03-26 14:04:00\n",
      "-------------------------------------------\n",
      "\n",
      "-------------------------------------------\n",
      "Time: 2024-03-26 14:04:00\n",
      "-------------------------------------------\n",
      "\n"
     ]
    },
    {
     "name": "stderr",
     "output_type": "stream",
     "text": [
      "Cannot parse logline: h194n2fls308o1033.telia.com - - [09/Mar/2004:13:49:05 -0800] \"-\" 408 -\n",
      "                                                                                \r"
     ]
    },
    {
     "name": "stdout",
     "output_type": "stream",
     "text": [
      "-------------------------------------------\n",
      "Time: 2024-03-26 14:04:30\n",
      "-------------------------------------------\n",
      "64.242.88.10 - - [07/Mar/2004:16:05:49 -0800] \"GET /twiki/bin/edit/Main/Double_bounce_sender?topicparent=Main.ConfigurationVariables HTTP/1.1\" 401 \n",
      "64.242.88.10 - - [07/Mar/2004:16:06:51 -0800] \"GET /twiki/bin/rdiff/TWiki/NewUserTemplate?rev1=1.3&rev2=1.2 HTTP/1.1\" 200 \n",
      "64.242.88.10 - - [07/Mar/2004:16:10:02 -0800] \"GET /mailman/listinfo/hsdivision HTTP/1.1\" 200 \n",
      "64.242.88.10 - - [07/Mar/2004:16:11:58 -0800] \"GET /twiki/bin/view/TWiki/WikiSyntax HTTP/1.1\" 200 \n",
      "64.242.88.10 - - [07/Mar/2004:16:20:55 -0800] \"GET /twiki/bin/view/Main/DCCAndPostFix HTTP/1.1\" 200 \n",
      "64.242.88.10 - - [07/Mar/2004:16:23:12 -0800] \"GET /twiki/bin/oops/TWiki/AppendixFileSystem?template=oopsmore&param1=1.12&param2=1.12 HTTP/1.1\" 200 \n",
      "64.242.88.10 - - [07/Mar/2004:16:24:16 -0800] \"GET /twiki/bin/view/Main/PeterThoeny HTTP/1.1\" 200 \n",
      "64.242.88.10 - - [07/Mar/2004:16:29:16 -0800] \"GET /twiki/bin/edit/Main/Header_checks?topicparent=Main.ConfigurationVariables HTTP/1.1\" 401 \n",
      "64.242.88.10 - - [07/Mar/2004:16:30:29 -0800] \"GET /twiki/bin/attach/Main/OfficeLocations HTTP/1.1\" 401 \n",
      "64.242.88.10 - - [07/Mar/2004:16:31:48 -0800] \"GET /twiki/bin/view/TWiki/WebTopicEditTemplate HTTP/1.1\" 200 \n",
      "64.242.88.10 - - [07/Mar/2004:16:32:50 -0800] \"GET /twiki/bin/view/Main/WebChanges HTTP/1.1\" 200 \n",
      "64.242.88.10 - - [07/Mar/2004:16:33:53 -0800] \"GET /twiki/bin/edit/Main/Smtpd_etrn_restrictions?topicparent=Main.ConfigurationVariables HTTP/1.1\" 401 \n",
      "64.242.88.10 - - [07/Mar/2004:16:35:19 -0800] \"GET /mailman/listinfo/business HTTP/1.1\" 200 \n",
      "64.242.88.10 - - [07/Mar/2004:16:36:22 -0800] \"GET /twiki/bin/rdiff/Main/WebIndex?rev1=1.2&rev2=1.1 HTTP/1.1\" 200 \n",
      "64.242.88.10 - - [07/Mar/2004:16:37:27 -0800] \"GET /twiki/bin/view/TWiki/DontNotify HTTP/1.1\" 200 \n",
      "64.242.88.10 - - [07/Mar/2004:16:39:24 -0800] \"GET /twiki/bin/view/Main/TokyoOffice HTTP/1.1\" 200 \n",
      "64.242.88.10 - - [07/Mar/2004:16:43:54 -0800] \"GET /twiki/bin/view/Main/MikeMannix HTTP/1.1\" 200 \n",
      "64.242.88.10 - - [07/Mar/2004:16:45:56 -0800] \"GET /twiki/bin/attach/Main/PostfixCommands HTTP/1.1\" 401 \n",
      "64.242.88.10 - - [07/Mar/2004:16:47:12 -0800] \"GET /robots.txt HTTP/1.1\" 200 \n",
      "64.242.88.10 - - [07/Mar/2004:16:47:46 -0800] \"GET /twiki/bin/rdiff/Know/ReadmeFirst?rev1=1.5&rev2=1.4 HTTP/1.1\" 200 \n",
      "64.242.88.10 - - [07/Mar/2004:16:49:04 -0800] \"GET /twiki/bin/view/Main/TWikiGroups?rev=1.2 HTTP/1.1\" 200 \n",
      "64.242.88.10 - - [07/Mar/2004:16:50:54 -0800] \"GET /twiki/bin/rdiff/Main/ConfigurationVariables HTTP/1.1\" 200 \n",
      "64.242.88.10 - - [07/Mar/2004:16:52:35 -0800] \"GET /twiki/bin/edit/Main/Flush_service_name?topicparent=Main.ConfigurationVariables HTTP/1.1\" 401 \n",
      "64.242.88.10 - - [07/Mar/2004:16:53:46 -0800] \"GET /twiki/bin/rdiff/TWiki/TWikiRegistration HTTP/1.1\" 200 \n",
      "64.242.88.10 - - [07/Mar/2004:16:54:55 -0800] \"GET /twiki/bin/rdiff/Main/NicholasLee HTTP/1.1\" 200 \n",
      "64.242.88.10 - - [07/Mar/2004:16:56:39 -0800] \"GET /twiki/bin/view/Sandbox/WebHome?rev=1.6 HTTP/1.1\" 200 \n",
      "64.242.88.10 - - [07/Mar/2004:16:58:54 -0800] \"GET /mailman/listinfo/administration HTTP/1.1\" 200 \n",
      "lordgun.org - - [07/Mar/2004:17:01:53 -0800] \"GET /razor.html HTTP/1.1\" 200 \n",
      "64.242.88.10 - - [07/Mar/2004:17:09:01 -0800] \"GET /twiki/bin/search/Main/SearchResult?scope=text&regex=on&search=Joris%20*Benschop[^A-Za-z] HTTP/1.1\" 200 \n",
      "64.242.88.10 - - [07/Mar/2004:17:10:20 -0800] \"GET /twiki/bin/oops/TWiki/TextFormattingRules?template=oopsmore&param1=1.37&param2=1.37 HTTP/1.1\" 200 \n",
      "...\n",
      "\n",
      "-------------------------------------------\n",
      "Time: 2024-03-26 14:04:30\n",
      "-------------------------------------------\n",
      "('64.242.88.10', 1)\n",
      "('64.242.88.10', 1)\n",
      "('64.242.88.10', 1)\n",
      "('64.242.88.10', 1)\n",
      "('64.242.88.10', 1)\n",
      "('64.242.88.10', 1)\n",
      "('64.242.88.10', 1)\n",
      "('64.242.88.10', 1)\n",
      "('64.242.88.10', 1)\n",
      "('64.242.88.10', 1)\n",
      "('64.242.88.10', 1)\n",
      "('64.242.88.10', 1)\n",
      "('64.242.88.10', 1)\n",
      "('64.242.88.10', 1)\n",
      "('64.242.88.10', 1)\n",
      "('64.242.88.10', 1)\n",
      "('64.242.88.10', 1)\n",
      "('64.242.88.10', 1)\n",
      "('64.242.88.10', 1)\n",
      "('64.242.88.10', 1)\n",
      "('64.242.88.10', 1)\n",
      "('64.242.88.10', 1)\n",
      "('64.242.88.10', 1)\n",
      "('64.242.88.10', 1)\n",
      "('64.242.88.10', 1)\n",
      "('64.242.88.10', 1)\n",
      "('64.242.88.10', 1)\n",
      "('lordgun.org', 1)\n",
      "('64.242.88.10', 1)\n",
      "('64.242.88.10', 1)\n",
      "...\n",
      "\n"
     ]
    },
    {
     "name": "stderr",
     "output_type": "stream",
     "text": [
      "Cannot parse logline: h194n2fls308o1033.telia.com - - [09/Mar/2004:13:49:05 -0800] \"-\" 408 -\n"
     ]
    }
   ],
   "source": [
    "ssc.awaitTerminationOrTimeout(timeout=100)"
   ]
  }
 ],
 "metadata": {
  "kernelspec": {
   "display_name": "Python 3 (ipykernel)",
   "language": "python",
   "name": "python3"
  },
  "language_info": {
   "codemirror_mode": {
    "name": "ipython",
    "version": 3
   },
   "file_extension": ".py",
   "mimetype": "text/x-python",
   "name": "python",
   "nbconvert_exporter": "python",
   "pygments_lexer": "ipython3",
   "version": "3.11.0"
  }
 },
 "nbformat": 4,
 "nbformat_minor": 5
}
