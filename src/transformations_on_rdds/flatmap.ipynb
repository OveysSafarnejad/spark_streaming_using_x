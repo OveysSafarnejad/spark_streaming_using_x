{
 "cells": [
  {
   "cell_type": "code",
   "execution_count": 1,
   "id": "f4d92e70-8f4f-4e7a-98d3-cd7c2ae57293",
   "metadata": {},
   "outputs": [
    {
     "name": "stderr",
     "output_type": "stream",
     "text": [
      "Setting default log level to \"WARN\".\n",
      "To adjust logging level use sc.setLogLevel(newLevel). For SparkR, use setLogLevel(newLevel).\n",
      "24/03/25 14:47:32 WARN NativeCodeLoader: Unable to load native-hadoop library for your platform... using builtin-java classes where applicable\n"
     ]
    }
   ],
   "source": [
    "import findspark\n",
    "\n",
    "findspark.init('/opt/spark-3.5.0/')\n",
    "\n",
    "from pyspark.sql import SparkSession\n",
    "\n",
    "spark = SparkSession.builder.appName('rdd transformations').getOrCreate()\n",
    "sc = spark.sparkContext"
   ]
  },
  {
   "cell_type": "markdown",
   "id": "3463e968-58db-4f5c-8566-7431c05e8e58",
   "metadata": {},
   "source": [
    "# flatmap"
   ]
  },
  {
   "cell_type": "code",
   "execution_count": 2,
   "id": "2994b84d-1556-428d-856c-fdc7cbb73e4a",
   "metadata": {},
   "outputs": [
    {
     "name": "stderr",
     "output_type": "stream",
     "text": [
      "                                                                                \r"
     ]
    },
    {
     "data": {
      "text/plain": [
       "[0, 0, 1, 0, 1, 2]"
      ]
     },
     "execution_count": 2,
     "metadata": {},
     "output_type": "execute_result"
    }
   ],
   "source": [
    "sc.parallelize([1,2,3]).flatMap(lambda x: range(x)).collect()"
   ]
  },
  {
   "cell_type": "markdown",
   "id": "8f0a7426-2a62-4b97-9b94-d25bebc67c07",
   "metadata": {},
   "source": [
    "# map"
   ]
  },
  {
   "cell_type": "code",
   "execution_count": 3,
   "id": "ebcd5daa-d53a-4691-bfc9-90b99678ffbc",
   "metadata": {},
   "outputs": [
    {
     "data": {
      "text/plain": [
       "[range(0, 1), range(0, 2), range(0, 3)]"
      ]
     },
     "execution_count": 3,
     "metadata": {},
     "output_type": "execute_result"
    }
   ],
   "source": [
    "sc.parallelize([1,2,3]).map(lambda x: range(x)).collect()"
   ]
  },
  {
   "cell_type": "markdown",
   "id": "2d6da35f-8e24-49b4-ad69-cb870897c93d",
   "metadata": {},
   "source": [
    "# filter"
   ]
  },
  {
   "cell_type": "code",
   "execution_count": 4,
   "id": "0ac86a8a-ace7-4f31-b194-b57dcdf3d62b",
   "metadata": {},
   "outputs": [
    {
     "data": {
      "text/plain": [
       "[0, 2, 4, 6, 8, 10, 12, 14]"
      ]
     },
     "execution_count": 4,
     "metadata": {},
     "output_type": "execute_result"
    }
   ],
   "source": [
    "sc.parallelize(range(15)).filter(lambda x: x%2==0).collect()"
   ]
  },
  {
   "cell_type": "markdown",
   "id": "3fa103c5-db21-4341-905e-3a5aed02c7eb",
   "metadata": {},
   "source": [
    "# repartition"
   ]
  },
  {
   "cell_type": "code",
   "execution_count": 5,
   "id": "9ada88d9-bd65-4cae-b035-672e8d692e46",
   "metadata": {},
   "outputs": [
    {
     "name": "stderr",
     "output_type": "stream",
     "text": [
      "                                                                                \r"
     ]
    },
    {
     "data": {
      "text/plain": [
       "[0, 3, 4, 7, 1, 2, 5, 6, 8, 9]"
      ]
     },
     "execution_count": 5,
     "metadata": {},
     "output_type": "execute_result"
    }
   ],
   "source": [
    "sc.parallelize(range(10)).repartition(numPartitions=3).collect()"
   ]
  },
  {
   "cell_type": "markdown",
   "id": "1f913f9b-c779-4876-92bd-c2940255a274",
   "metadata": {},
   "source": [
    "# union"
   ]
  },
  {
   "cell_type": "code",
   "execution_count": 6,
   "id": "8c80824a-2be1-44e3-9774-5671d6d32904",
   "metadata": {},
   "outputs": [],
   "source": [
    "rdd_a = sc.parallelize(range(10))\n",
    "rdd_b = sc.parallelize(range(10,20))"
   ]
  },
  {
   "cell_type": "code",
   "execution_count": 7,
   "id": "81162e92-e4c9-4afb-a1f9-86c3b314aa52",
   "metadata": {},
   "outputs": [
    {
     "name": "stderr",
     "output_type": "stream",
     "text": [
      "                                                                                \r"
     ]
    },
    {
     "data": {
      "text/plain": [
       "[0, 1, 2, 3, 4, 5, 6, 7, 8, 9, 10, 11, 12, 13, 14, 15, 16, 17, 18, 19]"
      ]
     },
     "execution_count": 7,
     "metadata": {},
     "output_type": "execute_result"
    }
   ],
   "source": [
    "rdd_a.union(rdd_b).collect()"
   ]
  },
  {
   "cell_type": "markdown",
   "id": "c8a454c5-f4ec-40cf-ba73-ce9c846c80b2",
   "metadata": {},
   "source": [
    "# count"
   ]
  },
  {
   "cell_type": "code",
   "execution_count": 8,
   "id": "9342c7f2-9a7d-4911-b9d4-a9f8826ad91e",
   "metadata": {},
   "outputs": [
    {
     "name": "stderr",
     "output_type": "stream",
     "text": [
      "                                                                                \r"
     ]
    },
    {
     "data": {
      "text/plain": [
       "20"
      ]
     },
     "execution_count": 8,
     "metadata": {},
     "output_type": "execute_result"
    }
   ],
   "source": [
    "rdd_a.union(rdd_b).count()\n"
   ]
  },
  {
   "cell_type": "markdown",
   "id": "e7c1b1a2-f62a-4160-9571-8f230cd2b121",
   "metadata": {},
   "source": [
    "# countByValue"
   ]
  },
  {
   "cell_type": "code",
   "execution_count": 9,
   "id": "4f860ae1-86cd-4053-a776-f93f9d84ba2e",
   "metadata": {},
   "outputs": [
    {
     "data": {
      "text/plain": [
       "defaultdict(int, {1: 3, 2: 3, 3: 3, 4: 2, 5: 2, 6: 1, 7: 1})"
      ]
     },
     "execution_count": 9,
     "metadata": {},
     "output_type": "execute_result"
    }
   ],
   "source": [
    "sc.parallelize([1,2,1,3,4,5,3,2,4,5,6,7,3,2,1]).countByValue()"
   ]
  },
  {
   "cell_type": "markdown",
   "id": "8aa9cf7b-210d-4bbc-8e76-c7422a65e4a3",
   "metadata": {},
   "source": [
    "# join"
   ]
  },
  {
   "cell_type": "code",
   "execution_count": 10,
   "id": "fd58b037-2459-44f5-89e5-31787b459d9e",
   "metadata": {},
   "outputs": [
    {
     "name": "stderr",
     "output_type": "stream",
     "text": [
      "                                                                                \r"
     ]
    },
    {
     "data": {
      "text/plain": [
       "[('a', (1, 7)), ('a', (4, 7)), ('b', (3, 2))]"
      ]
     },
     "execution_count": 10,
     "metadata": {},
     "output_type": "execute_result"
    }
   ],
   "source": [
    "rdd_1 = sc.parallelize([('a',1), ('b',3), ('a', 4)])\n",
    "rdd_2 = sc.parallelize([('a',7), ('b', 2), ('c', 6)])\n",
    "rdd_1.join(rdd_2).collect()"
   ]
  },
  {
   "cell_type": "markdown",
   "id": "88d5fa98-5ff1-4386-a89a-6b742aec132f",
   "metadata": {},
   "source": [
    "# cogroup"
   ]
  },
  {
   "cell_type": "code",
   "execution_count": 11,
   "id": "0df5cc9a-2978-4d41-80bd-8c8969eff8f8",
   "metadata": {},
   "outputs": [],
   "source": [
    "rdd_1 = sc.parallelize([('a',1), ('b',3), ('a', 4)])\n",
    "rdd_2 = sc.parallelize([('a', 7), ('b', 2), ('c', 6)])\n",
    "co = rdd_1.cogroup(rdd_2)\n",
    "\n"
   ]
  },
  {
   "cell_type": "code",
   "execution_count": 12,
   "id": "4d3e99ab-ad9b-4df7-892b-d071c29b635a",
   "metadata": {},
   "outputs": [
    {
     "name": "stderr",
     "output_type": "stream",
     "text": [
      "[Stage 10:=============================================>          (13 + 3) / 16]\r"
     ]
    },
    {
     "name": "stdout",
     "output_type": "stream",
     "text": [
      "Key: c, Values: ((), (6,))\n",
      "Key: a, Values: ((1, 4), (7,))\n",
      "Key: b, Values: ((3,), (2,))\n"
     ]
    },
    {
     "name": "stderr",
     "output_type": "stream",
     "text": [
      "                                                                                \r"
     ]
    }
   ],
   "source": [
    "for key,values in co.collect():\n",
    "     print(f\"Key: {key}, Values: {tuple(map(tuple, values))}\")"
   ]
  }
 ],
 "metadata": {
  "kernelspec": {
   "display_name": "Python 3 (ipykernel)",
   "language": "python",
   "name": "python3"
  },
  "language_info": {
   "codemirror_mode": {
    "name": "ipython",
    "version": 3
   },
   "file_extension": ".py",
   "mimetype": "text/x-python",
   "name": "python",
   "nbconvert_exporter": "python",
   "pygments_lexer": "ipython3",
   "version": "3.11.0"
  }
 },
 "nbformat": 4,
 "nbformat_minor": 5
}
