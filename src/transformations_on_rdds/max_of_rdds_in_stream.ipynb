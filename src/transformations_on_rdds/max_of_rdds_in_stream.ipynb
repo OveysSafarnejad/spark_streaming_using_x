{
 "cells": [
  {
   "cell_type": "code",
   "execution_count": 2,
   "id": "ace4cf09-5008-4b2d-b671-143983f5b9fc",
   "metadata": {},
   "outputs": [
    {
     "name": "stderr",
     "output_type": "stream",
     "text": [
      "Setting default log level to \"WARN\".\n",
      "To adjust logging level use sc.setLogLevel(newLevel). For SparkR, use setLogLevel(newLevel).\n",
      "24/03/25 15:13:04 WARN NativeCodeLoader: Unable to load native-hadoop library for your platform... using builtin-java classes where applicable\n",
      "24/03/25 15:13:05 WARN Utils: Service 'SparkUI' could not bind on port 4040. Attempting port 4041.\n",
      "/Users/hso/Documents/WORKSPACE/LEARNING/spark_streaming_using_x/.venv/lib/python3.11/site-packages/pyspark/streaming/context.py:72: FutureWarning: DStream is deprecated as of Spark 3.4.0. Migrate to Structured Streaming.\n",
      "  warnings.warn(\n"
     ]
    }
   ],
   "source": [
    "import findspark\n",
    "from pyspark.sql import SparkSession\n",
    "from pyspark.streaming import StreamingContext\n",
    "\n",
    "\n",
    "findspark.init()\n",
    "spark = SparkSession.builder.appName('Reduce action').getOrCreate()\n",
    "sc = spark.sparkContext\n",
    "ssc = StreamingContext(sc, batchDuration=10)"
   ]
  },
  {
   "cell_type": "code",
   "execution_count": 3,
   "id": "98cc9156-a447-4ee9-8e7c-78acd1f53cd8",
   "metadata": {},
   "outputs": [],
   "source": [
    "queue_stream = ssc.queueStream(\n",
    "    rdds=[sc.parallelize([(1, 'a'), (2, 'b'),(1, 'c'), (2, 'f'),(2, 'd'), (3, 'a')])],\n",
    "    oneAtATime=True\n",
    ")\n"
   ]
  },
  {
   "cell_type": "markdown",
   "id": "a83af51c-b5d9-4eed-8d5d-433de57bcfeb",
   "metadata": {},
   "source": [
    "# Reduce"
   ]
  },
  {
   "cell_type": "code",
   "execution_count": 4,
   "id": "70a6b85b-2c7e-4efb-ba9f-4dc7680fcaa6",
   "metadata": {},
   "outputs": [],
   "source": [
    "max_stream = queue_stream.reduce(max)\n",
    "max_stream.pprint()"
   ]
  },
  {
   "cell_type": "code",
   "execution_count": 5,
   "id": "75fce956-b3c7-4d57-b145-c212f4bd0fab",
   "metadata": {},
   "outputs": [
    {
     "name": "stderr",
     "output_type": "stream",
     "text": [
      "                                                                                \r"
     ]
    },
    {
     "name": "stdout",
     "output_type": "stream",
     "text": [
      "-------------------------------------------\n",
      "Time: 2024-03-25 15:46:30\n",
      "-------------------------------------------\n",
      "(3, 'a')\n",
      "\n",
      "-------------------------------------------\n",
      "Time: 2024-03-25 15:46:40\n",
      "-------------------------------------------\n",
      "\n"
     ]
    }
   ],
   "source": [
    "ssc.start()"
   ]
  },
  {
   "cell_type": "code",
   "execution_count": 6,
   "id": "014b8486-b08f-4db5-ab8f-0aa973ac6df9",
   "metadata": {},
   "outputs": [
    {
     "name": "stdout",
     "output_type": "stream",
     "text": [
      "-------------------------------------------\n",
      "Time: 2024-03-25 15:46:50\n",
      "-------------------------------------------\n",
      "\n",
      "-------------------------------------------\n",
      "Time: 2024-03-25 15:47:00\n",
      "-------------------------------------------\n",
      "\n"
     ]
    }
   ],
   "source": [
    "ssc.stop(stopSparkContext=True, stopGraceFully=True)"
   ]
  }
 ],
 "metadata": {
  "kernelspec": {
   "display_name": "Python 3 (ipykernel)",
   "language": "python",
   "name": "python3"
  },
  "language_info": {
   "codemirror_mode": {
    "name": "ipython",
    "version": 3
   },
   "file_extension": ".py",
   "mimetype": "text/x-python",
   "name": "python",
   "nbconvert_exporter": "python",
   "pygments_lexer": "ipython3",
   "version": "3.11.0"
  }
 },
 "nbformat": 4,
 "nbformat_minor": 5
}
