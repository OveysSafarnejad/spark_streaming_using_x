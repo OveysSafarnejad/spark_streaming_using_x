{
 "cells": [
  {
   "cell_type": "code",
   "execution_count": 1,
   "id": "927f5cfc-1bf8-4100-b62e-cf1d65155a82",
   "metadata": {},
   "outputs": [
    {
     "name": "stderr",
     "output_type": "stream",
     "text": [
      "Setting default log level to \"WARN\".\n",
      "To adjust logging level use sc.setLogLevel(newLevel). For SparkR, use setLogLevel(newLevel).\n",
      "23/11/21 11:04:14 WARN NativeCodeLoader: Unable to load native-hadoop library for your platform... using builtin-java classes where applicable\n",
      "/Users/audioworkstation/Documents/WORKSPACE/LEARNING/spark_streaming_using_x/spark-3.5.0-bin-hadoop3/python/pyspark/streaming/context.py:72: FutureWarning: DStream is deprecated as of Spark 3.4.0. Migrate to Structured Streaming.\n",
      "  warnings.warn(\n"
     ]
    }
   ],
   "source": [
    "import os\n",
    "import pathlib\n",
    "import time\n",
    "\n",
    "import findspark\n",
    "\n",
    "prj_dir = pathlib.Path().resolve().parent.parent\n",
    "spark_home = os.path.join(prj_dir / 'spark-3.5.0-bin-hadoop3')\n",
    "\n",
    "findspark.init(spark_home)\n",
    "\n",
    "from pyspark import SparkConf, SparkContext\n",
    "from pyspark.streaming import StreamingContext\n",
    "\n",
    "\n",
    "conf = SparkConf().setMaster('local[2]').setAppName('Join Operation').set('spark.executer.memory', '2g')\n",
    "sc = SparkContext(conf=conf)\n",
    "ssc = StreamingContext(sparkContext=sc, batchDuration=10)\n",
    "ssc.checkpoint('checkpoint')"
   ]
  },
  {
   "cell_type": "code",
   "execution_count": 3,
   "id": "8e9a3ea7-db56-46c3-86ed-612b9dd0e19c",
   "metadata": {},
   "outputs": [],
   "source": [
    "def update_state(new_vals, curr_state):\n",
    "    return sum(new_vals) + (curr_state or 0)"
   ]
  },
  {
   "cell_type": "code",
   "execution_count": 4,
   "id": "e96a30dc-a593-497c-9137-b06a9180d24f",
   "metadata": {},
   "outputs": [],
   "source": [
    "host= '127.0.0.1'\n",
    "port = 5555\n",
    "lines = ssc.socketTextStream(host, port)\n",
    "overal_word_count = lines.flatMap(lambda l: l.split(' ')).map(lambda word: (word,  1)).updateStateByKey(update_state)\n",
    "overal_word_count.pprint()"
   ]
  },
  {
   "cell_type": "code",
   "execution_count": null,
   "id": "56b3e475-c2c2-484b-bf31-2efccfbe043d",
   "metadata": {},
   "outputs": [
    {
     "name": "stderr",
     "output_type": "stream",
     "text": [
      "                                                                                \r"
     ]
    },
    {
     "name": "stdout",
     "output_type": "stream",
     "text": [
      "-------------------------------------------\n",
      "Time: 2023-11-21 11:12:10\n",
      "-------------------------------------------\n",
      "\n"
     ]
    },
    {
     "name": "stderr",
     "output_type": "stream",
     "text": [
      "                                                                                \r"
     ]
    },
    {
     "name": "stdout",
     "output_type": "stream",
     "text": [
      "-------------------------------------------\n",
      "Time: 2023-11-21 11:12:20\n",
      "-------------------------------------------\n",
      "\n"
     ]
    },
    {
     "name": "stderr",
     "output_type": "stream",
     "text": [
      "23/11/21 11:12:23 WARN RandomBlockReplicationPolicy: Expecting 1 replicas with only 0 peer/s.\n",
      "23/11/21 11:12:23 WARN BlockManager: Block input-0-1700561543600 replicated to only 0 peer(s) instead of 1 peers\n",
      "23/11/21 11:12:26 WARN RandomBlockReplicationPolicy: Expecting 1 replicas with only 0 peer/s.\n",
      "23/11/21 11:12:26 WARN BlockManager: Block input-0-1700561546000 replicated to only 0 peer(s) instead of 1 peers\n",
      "                                                                                \r"
     ]
    },
    {
     "name": "stdout",
     "output_type": "stream",
     "text": [
      "-------------------------------------------\n",
      "Time: 2023-11-21 11:12:30\n",
      "-------------------------------------------\n",
      "('ali', 2)\n",
      "('ab', 2)\n",
      "('dad', 2)\n",
      "('', 1)\n",
      "\n"
     ]
    },
    {
     "name": "stderr",
     "output_type": "stream",
     "text": [
      "23/11/21 11:12:38 WARN RandomBlockReplicationPolicy: Expecting 1 replicas with only 0 peer/s.\n",
      "23/11/21 11:12:38 WARN BlockManager: Block input-0-1700561558000 replicated to only 0 peer(s) instead of 1 peers\n",
      "                                                                                \r"
     ]
    },
    {
     "name": "stdout",
     "output_type": "stream",
     "text": [
      "-------------------------------------------\n",
      "Time: 2023-11-21 11:12:40\n",
      "-------------------------------------------\n",
      "('ali', 3)\n",
      "('ab', 3)\n",
      "('dad', 3)\n",
      "('', 1)\n",
      "('aba', 1)\n",
      "\n"
     ]
    },
    {
     "name": "stderr",
     "output_type": "stream",
     "text": [
      "                                                                                \r"
     ]
    },
    {
     "name": "stdout",
     "output_type": "stream",
     "text": [
      "-------------------------------------------\n",
      "Time: 2023-11-21 11:12:50\n",
      "-------------------------------------------\n",
      "('ali', 3)\n",
      "('ab', 3)\n",
      "('dad', 3)\n",
      "('', 1)\n",
      "('aba', 1)\n",
      "\n"
     ]
    },
    {
     "name": "stderr",
     "output_type": "stream",
     "text": [
      "23/11/21 11:12:59 WARN RandomBlockReplicationPolicy: Expecting 1 replicas with only 0 peer/s.\n",
      "23/11/21 11:12:59 WARN BlockManager: Block input-0-1700561578800 replicated to only 0 peer(s) instead of 1 peers\n",
      "                                                                                \r"
     ]
    },
    {
     "name": "stdout",
     "output_type": "stream",
     "text": [
      "-------------------------------------------\n",
      "Time: 2023-11-21 11:13:00\n",
      "-------------------------------------------\n",
      "('ali', 4)\n",
      "('ab', 3)\n",
      "('dad', 3)\n",
      "('', 1)\n",
      "('vali', 1)\n",
      "('dobar', 1)\n",
      "('aba', 1)\n",
      "('nadad', 1)\n",
      "\n"
     ]
    },
    {
     "name": "stderr",
     "output_type": "stream",
     "text": [
      "23/11/21 11:13:09 WARN RandomBlockReplicationPolicy: Expecting 1 replicas with only 0 peer/s.\n",
      "23/11/21 11:13:09 WARN BlockManager: Block input-0-1700561588800 replicated to only 0 peer(s) instead of 1 peers\n",
      "                                                                                \r"
     ]
    },
    {
     "name": "stdout",
     "output_type": "stream",
     "text": [
      "-------------------------------------------\n",
      "Time: 2023-11-21 11:13:10\n",
      "-------------------------------------------\n",
      "('ali', 7)\n",
      "('ab', 3)\n",
      "('dad', 3)\n",
      "('', 1)\n",
      "('vali', 1)\n",
      "('dobar', 1)\n",
      "('aba', 1)\n",
      "('nadad', 1)\n",
      "\n"
     ]
    },
    {
     "name": "stderr",
     "output_type": "stream",
     "text": [
      "                                                                                \r"
     ]
    },
    {
     "name": "stdout",
     "output_type": "stream",
     "text": [
      "-------------------------------------------\n",
      "Time: 2023-11-21 11:13:20\n",
      "-------------------------------------------\n",
      "('ali', 7)\n",
      "('ab', 3)\n",
      "('dad', 3)\n",
      "('', 1)\n",
      "('vali', 1)\n",
      "('dobar', 1)\n",
      "('aba', 1)\n",
      "('nadad', 1)\n",
      "\n"
     ]
    },
    {
     "name": "stderr",
     "output_type": "stream",
     "text": [
      "                                                                                \r"
     ]
    },
    {
     "name": "stdout",
     "output_type": "stream",
     "text": [
      "-------------------------------------------\n",
      "Time: 2023-11-21 11:13:30\n",
      "-------------------------------------------\n",
      "('ali', 7)\n",
      "('ab', 3)\n",
      "('dad', 3)\n",
      "('', 1)\n",
      "('vali', 1)\n",
      "('dobar', 1)\n",
      "('aba', 1)\n",
      "('nadad', 1)\n",
      "\n"
     ]
    },
    {
     "name": "stderr",
     "output_type": "stream",
     "text": [
      "[Stage 0:>                                                          (0 + 1) / 1]\r"
     ]
    }
   ],
   "source": [
    "ssc.start()\n",
    "ssc.awaitTerminationOrTimeout(timeout=100)"
   ]
  }
 ],
 "metadata": {
  "kernelspec": {
   "display_name": "Python 3 (ipykernel)",
   "language": "python",
   "name": "python3"
  },
  "language_info": {
   "codemirror_mode": {
    "name": "ipython",
    "version": 3
   },
   "file_extension": ".py",
   "mimetype": "text/x-python",
   "name": "python",
   "nbconvert_exporter": "python",
   "pygments_lexer": "ipython3",
   "version": "3.10.11"
  }
 },
 "nbformat": 4,
 "nbformat_minor": 5
}
