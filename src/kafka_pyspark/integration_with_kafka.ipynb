{
 "cells": [
  {
   "cell_type": "code",
   "execution_count": 1,
   "id": "c22e7451-3c45-4db7-b39a-3752d2e615f1",
   "metadata": {},
   "outputs": [],
   "source": [
    "import os\n",
    "import findspark\n",
    "\n",
    "from pyspark.sql import SparkSession\n",
    "from pyspark.sql.functions import explode, split\n",
    "\n",
    "\n",
    "findspark.init()"
   ]
  },
  {
   "cell_type": "code",
   "execution_count": 2,
   "id": "cc1846a8-2e6a-4deb-aa82-a7d2d1a74c76",
   "metadata": {},
   "outputs": [],
   "source": [
    "SUBMIT_ARGS = '--packages org.apache.spark:spark-sql-kafka-0-10_2.12:3.5.0,org.apache.kafka:kafka-clients:2.8.1 pyspark-shell'\n",
    "\n",
    "\n",
    "# SUBMIT_ARGS = f'--packages ' \\\n",
    "#               f'org.apache.spark:spark-sql-kafka-0-10_2.12:3.5.0,' \\\n",
    "#               f'org.apache.kafka:kafka-clients:2.8.1 ' \\\n",
    "#               f'pyspark-shell'\n",
    "\n",
    "\n",
    "os.environ[\"PYSPARK_SUBMIT_ARGS\"] = SUBMIT_ARGS"
   ]
  },
  {
   "cell_type": "code",
   "execution_count": 3,
   "id": "bc41e2c0-8d00-4e12-ab5b-fd6dcc777aa2",
   "metadata": {},
   "outputs": [
    {
     "name": "stdout",
     "output_type": "stream",
     "text": [
      ":: loading settings :: url = jar:file:/opt/spark-3.5.0/jars/ivy-2.5.1.jar!/org/apache/ivy/core/settings/ivysettings.xml\n"
     ]
    },
    {
     "name": "stderr",
     "output_type": "stream",
     "text": [
      "Ivy Default Cache set to: /Users/hso/.ivy2/cache\n",
      "The jars for the packages stored in: /Users/hso/.ivy2/jars\n",
      "org.apache.spark#spark-sql-kafka-0-10_2.12 added as a dependency\n",
      "org.apache.kafka#kafka-clients added as a dependency\n",
      ":: resolving dependencies :: org.apache.spark#spark-submit-parent-1ba103f2-56b3-4930-81a0-3f131b530350;1.0\n",
      "\tconfs: [default]\n",
      "\tfound org.apache.spark#spark-sql-kafka-0-10_2.12;3.5.0 in central\n",
      "\tfound org.apache.spark#spark-token-provider-kafka-0-10_2.12;3.5.0 in central\n",
      "\tfound org.apache.kafka#kafka-clients;3.4.1 in central\n",
      "\tfound org.lz4#lz4-java;1.8.0 in central\n",
      "\tfound org.xerial.snappy#snappy-java;1.1.10.3 in central\n",
      "\tfound org.slf4j#slf4j-api;2.0.7 in central\n",
      "\tfound org.apache.hadoop#hadoop-client-runtime;3.3.4 in central\n",
      "\tfound org.apache.hadoop#hadoop-client-api;3.3.4 in central\n",
      "\tfound commons-logging#commons-logging;1.1.3 in central\n",
      "\tfound com.google.code.findbugs#jsr305;3.0.0 in central\n",
      "\tfound org.apache.commons#commons-pool2;2.11.1 in central\n",
      ":: resolution report :: resolve 566ms :: artifacts dl 18ms\n",
      "\t:: modules in use:\n",
      "\tcom.google.code.findbugs#jsr305;3.0.0 from central in [default]\n",
      "\tcommons-logging#commons-logging;1.1.3 from central in [default]\n",
      "\torg.apache.commons#commons-pool2;2.11.1 from central in [default]\n",
      "\torg.apache.hadoop#hadoop-client-api;3.3.4 from central in [default]\n",
      "\torg.apache.hadoop#hadoop-client-runtime;3.3.4 from central in [default]\n",
      "\torg.apache.kafka#kafka-clients;3.4.1 from central in [default]\n",
      "\torg.apache.spark#spark-sql-kafka-0-10_2.12;3.5.0 from central in [default]\n",
      "\torg.apache.spark#spark-token-provider-kafka-0-10_2.12;3.5.0 from central in [default]\n",
      "\torg.lz4#lz4-java;1.8.0 from central in [default]\n",
      "\torg.slf4j#slf4j-api;2.0.7 from central in [default]\n",
      "\torg.xerial.snappy#snappy-java;1.1.10.3 from central in [default]\n",
      "\t:: evicted modules:\n",
      "\torg.apache.kafka#kafka-clients;2.8.1 by [org.apache.kafka#kafka-clients;3.4.1] in [default]\n",
      "\t---------------------------------------------------------------------\n",
      "\t|                  |            modules            ||   artifacts   |\n",
      "\t|       conf       | number| search|dwnlded|evicted|| number|dwnlded|\n",
      "\t---------------------------------------------------------------------\n",
      "\t|      default     |   12  |   0   |   0   |   1   ||   11  |   0   |\n",
      "\t---------------------------------------------------------------------\n",
      ":: retrieving :: org.apache.spark#spark-submit-parent-1ba103f2-56b3-4930-81a0-3f131b530350\n",
      "\tconfs: [default]\n",
      "\t0 artifacts copied, 11 already retrieved (0kB/9ms)\n",
      "24/03/26 10:12:49 WARN NativeCodeLoader: Unable to load native-hadoop library for your platform... using builtin-java classes where applicable\n",
      "Setting default log level to \"WARN\".\n",
      "To adjust logging level use sc.setLogLevel(newLevel). For SparkR, use setLogLevel(newLevel).\n"
     ]
    }
   ],
   "source": [
    "spark = SparkSession.builder \\\n",
    "    .master(\"local\") \\\n",
    "    .appName(\"KafkaIntegration\") \\\n",
    "    .getOrCreate()\n"
   ]
  },
  {
   "cell_type": "code",
   "execution_count": 4,
   "id": "cc2eed46-bb53-46a8-9b95-2722459e6786",
   "metadata": {},
   "outputs": [],
   "source": [
    "kafka_bootstrap_server = \"localhost:9092\"\n",
    "kafka_topic = \"video-stream-event\"\n",
    "\n",
    "kafka_stream_df = spark.readStream\\\n",
    "    .format(\"kafka\") \\\n",
    "    .option(\"kafka.bootstrap.servers\", kafka_bootstrap_server) \\\n",
    "    .option(\"subscribe\", kafka_topic) \\\n",
    "    .option(\"startingOffsets\", \"earliest\") \\\n",
    "    .option(\"includeHeaders\", \"true\") \\\n",
    "    .load()"
   ]
  },
  {
   "cell_type": "code",
   "execution_count": null,
   "id": "1b5ec559-d2ba-497c-8de5-5f4b5f625186",
   "metadata": {},
   "outputs": [
    {
     "name": "stderr",
     "output_type": "stream",
     "text": [
      "24/03/26 10:12:53 WARN ResolveWriteToStream: Temporary checkpoint location created which is deleted normally when the query didn't fail: /private/var/folders/v4/r34w0mtd5xzfzyxp6hnbp8y00000gn/T/temporary-cf2b49c2-0ff4-46ef-a36d-f081ebbf1acd. If it's required to delete it under any circumstances, please set spark.sql.streaming.forceDeleteTempCheckpointLocation to true. Important to know deleting temp checkpoint folder is best effort.\n",
      "24/03/26 10:12:53 WARN ResolveWriteToStream: spark.sql.adaptive.enabled is not supported in streaming DataFrames/Datasets and will be disabled.\n",
      "24/03/26 10:12:54 WARN AdminClientConfig: These configurations '[key.deserializer, value.deserializer, enable.auto.commit, max.poll.records, auto.offset.reset]' were supplied but are not used yet.\n",
      "                                                                                \r"
     ]
    },
    {
     "name": "stdout",
     "output_type": "stream",
     "text": [
      "-------------------------------------------\n",
      "Batch: 0\n",
      "-------------------------------------------\n",
      "+-------+-----+\n",
      "|   word|count|\n",
      "+-------+-----+\n",
      "|      3|    1|\n",
      "|chetori|    1|\n",
      "|   baba|    4|\n",
      "|khoobi?|    1|\n",
      "|  salam|    1|\n",
      "|      1|    5|\n",
      "|    alo|    1|\n",
      "|       |    1|\n",
      "|      2|    1|\n",
      "+-------+-----+\n",
      "\n"
     ]
    }
   ],
   "source": [
    "# lines = kafka_stream_df.selectExpr(\"CAST(value AS STRING)\") # from now-on lines is value column of received stream.\n",
    "\n",
    "\n",
    "\n",
    "# what if I ignore the above line? ans: it works fine\n",
    "\n",
    "# This behavior is because Spark can often infer the correct data type based on the context in which a column is used within an expression.\n",
    "# If Spark detects that the column is being used in a string manipulation function like split(), it can infer that the column should be treated as a string.\n",
    "\n",
    "# split(\"value\", \" \"): Splits the \"value\" column, which now contains the string representation of the Kafka message, into an array of words based on the space character (\" \").\n",
    "# explode(...): Transforms each element of the array into a separate row, effectively \"exploding\" the array into multiple rows.\n",
    "# alias(\"word\"): Renames the resulting column to \"word\". This step is optional, but it gives a more meaningful name to the column.\n",
    "\n",
    "words = kafka_stream_df.select(explode(split(kafka_stream_df.value, \" \")).alias(\"word\"))\n",
    "\n",
    "# # Perform word count\n",
    "word_counts = words.groupBy(\"word\").count()\n",
    "\n",
    "# Start the query\n",
    "\"\"\"\n",
    "    Different output modes:\n",
    "        1. Complete: shows the complete track of the received data (aggregations applied) (in our example all words count).\n",
    "        2. Update: shoes the only updated stream (in our example number of words those added newly our those their count has been updated)\n",
    "\n",
    "        ***** Append output mode not supported when there are streaming aggregations on streaming DataFrames/DataSets without watermark; ****\n",
    "        ***** Complete output mode not supported when there are no streaming aggregations on streaming DataFrames/Datasets; ****\n",
    "\"\"\"\n",
    "query = word_counts.writeStream \\\n",
    "    .outputMode(\"complete\") \\\n",
    "    .format(\"console\") \\\n",
    "    .start() \\\n",
    "    .awaitTermination()"
   ]
  }
 ],
 "metadata": {
  "kernelspec": {
   "display_name": "Python 3 (ipykernel)",
   "language": "python",
   "name": "python3"
  },
  "language_info": {
   "codemirror_mode": {
    "name": "ipython",
    "version": 3
   },
   "file_extension": ".py",
   "mimetype": "text/x-python",
   "name": "python",
   "nbconvert_exporter": "python",
   "pygments_lexer": "ipython3",
   "version": "3.11.0"
  }
 },
 "nbformat": 4,
 "nbformat_minor": 5
}
