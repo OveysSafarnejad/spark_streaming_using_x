{
 "cells": [
  {
   "cell_type": "code",
   "execution_count": 1,
   "id": "e522915e-0f03-4c65-b6b9-668e2c34e2c0",
   "metadata": {},
   "outputs": [
    {
     "name": "stderr",
     "output_type": "stream",
     "text": [
      "Setting default log level to \"WARN\".\n",
      "To adjust logging level use sc.setLogLevel(newLevel). For SparkR, use setLogLevel(newLevel).\n",
      "23/11/21 13:49:12 WARN NativeCodeLoader: Unable to load native-hadoop library for your platform... using builtin-java classes where applicable\n"
     ]
    }
   ],
   "source": [
    "import os\n",
    "import pathlib\n",
    "import time\n",
    "\n",
    "import findspark\n",
    "\n",
    "prj_dir = pathlib.Path().resolve().parent.parent\n",
    "spark_home = os.path.join(prj_dir / 'spark-3.5.0-bin-hadoop3')\n",
    "\n",
    "findspark.init(spark_home)\n",
    "\n",
    "from pyspark import SparkConf, SparkContext\n",
    "from pyspark.streaming import StreamingContext\n",
    "\n",
    "\n",
    "conf = SparkConf().setMaster('local[2]').setAppName('Join Operation').set('spark.executer.memory', '2g')\n",
    "sc = SparkContext(conf=conf)"
   ]
  },
  {
   "cell_type": "markdown",
   "id": "e6c2720f-df84-440a-a42d-67494d40426b",
   "metadata": {},
   "source": [
    "# Accumulator simple example"
   ]
  },
  {
   "cell_type": "code",
   "execution_count": 2,
   "id": "81842c41-83e6-43d8-98e7-4420b2919047",
   "metadata": {},
   "outputs": [
    {
     "name": "stderr",
     "output_type": "stream",
     "text": [
      "                                                                                \r"
     ]
    },
    {
     "data": {
      "text/plain": [
       "10"
      ]
     },
     "execution_count": 2,
     "metadata": {},
     "output_type": "execute_result"
    }
   ],
   "source": [
    "acc = sc.accumulator(0)\n",
    "sc.parallelize([1,2,3,4]).foreach(lambda x: acc.add(x))\n",
    "\n",
    "acc.value"
   ]
  },
  {
   "cell_type": "markdown",
   "id": "ee11fa4e-ea8c-4f1a-8de5-d27bd0f9df72",
   "metadata": {},
   "source": [
    "# Exercise"
   ]
  },
  {
   "cell_type": "code",
   "execution_count": 3,
   "id": "fe171497-e428-4ca0-a340-183452a996d0",
   "metadata": {},
   "outputs": [],
   "source": [
    "from pyspark.accumulators import AccumulatorParam\n",
    "\n",
    "\n",
    "class DiffAccumulatorParam(AccumulatorParam):\n",
    "\n",
    "    # Built-in method  \n",
    "    def zero(self, value):\n",
    "        return [0.0] * len(value)\n",
    "\n",
    "    # Built-in method  \n",
    "    def addInPlace(self, val1, val2):\n",
    "        for i in range(len(val1)):\n",
    "            val1[i] += val2[i]\n",
    "        return val1"
   ]
  },
  {
   "cell_type": "code",
   "execution_count": 4,
   "id": "d4437244-13dd-4209-ace1-a94f840d98f0",
   "metadata": {},
   "outputs": [
    {
     "name": "stdout",
     "output_type": "stream",
     "text": [
      "[1.0, 2.0, 3.0]\n"
     ]
    }
   ],
   "source": [
    "va = sc.accumulator(\n",
    "    value=[1.0, 2.0, 3.0],\n",
    "    accum_param=DiffAccumulatorParam()\n",
    ")\n",
    "\n",
    "print(va.value)"
   ]
  },
  {
   "cell_type": "code",
   "execution_count": 5,
   "id": "df1ddc67-2a23-468e-bdcf-eff282e800dc",
   "metadata": {},
   "outputs": [
    {
     "data": {
      "text/plain": [
       "[4, 5, 6]"
      ]
     },
     "execution_count": 5,
     "metadata": {},
     "output_type": "execute_result"
    }
   ],
   "source": [
    "rdd1 = sc.parallelize([4,5,6])\n",
    "\n",
    "def diff(x):\n",
    "    global va\n",
    "    va += [x] * 3\n",
    "    \n",
    "rdd1.collect()"
   ]
  },
  {
   "cell_type": "code",
   "execution_count": 6,
   "id": "9e64061e-c84f-4a37-9fef-6f637f6fef2c",
   "metadata": {},
   "outputs": [
    {
     "name": "stdout",
     "output_type": "stream",
     "text": [
      "[16.0, 17.0, 18.0]\n"
     ]
    }
   ],
   "source": [
    "rdd1.foreach(diff)\n",
    "print(va.value)"
   ]
  },
  {
   "cell_type": "code",
   "execution_count": null,
   "id": "f73df6f5-f547-46f4-8cd2-e84e0898c33f",
   "metadata": {},
   "outputs": [],
   "source": []
  },
  {
   "cell_type": "code",
   "execution_count": null,
   "id": "e645f0fa-12ff-4467-8a48-766100596b27",
   "metadata": {},
   "outputs": [],
   "source": []
  }
 ],
 "metadata": {
  "kernelspec": {
   "display_name": "Python 3 (ipykernel)",
   "language": "python",
   "name": "python3"
  },
  "language_info": {
   "codemirror_mode": {
    "name": "ipython",
    "version": 3
   },
   "file_extension": ".py",
   "mimetype": "text/x-python",
   "name": "python",
   "nbconvert_exporter": "python",
   "pygments_lexer": "ipython3",
   "version": "3.10.11"
  }
 },
 "nbformat": 4,
 "nbformat_minor": 5
}
