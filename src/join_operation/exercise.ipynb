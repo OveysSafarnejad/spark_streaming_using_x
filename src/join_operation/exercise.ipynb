{
 "cells": [
  {
   "cell_type": "code",
   "execution_count": 1,
   "id": "e35b6f2c-032c-49c2-b86a-476309f5e237",
   "metadata": {},
   "outputs": [
    {
     "name": "stderr",
     "output_type": "stream",
     "text": [
      "Setting default log level to \"WARN\".\n",
      "To adjust logging level use sc.setLogLevel(newLevel). For SparkR, use setLogLevel(newLevel).\n",
      "23/11/20 15:08:07 WARN NativeCodeLoader: Unable to load native-hadoop library for your platform... using builtin-java classes where applicable\n",
      "/Users/audioworkstation/Documents/WORKSPACE/LEARNING/spark_streaming_using_x/spark-3.5.0-bin-hadoop3/python/pyspark/streaming/context.py:72: FutureWarning: DStream is deprecated as of Spark 3.4.0. Migrate to Structured Streaming.\n",
      "  warnings.warn(\n"
     ]
    }
   ],
   "source": [
    "import os\n",
    "import pathlib\n",
    "import time\n",
    "\n",
    "import findspark\n",
    "\n",
    "prj_dir = pathlib.Path().resolve().parent.parent\n",
    "spark_home = os.path.join(prj_dir / 'spark-3.5.0-bin-hadoop3')\n",
    "\n",
    "findspark.init(spark_home)\n",
    "\n",
    "from pyspark import SparkConf, SparkContext\n",
    "from pyspark.streaming import StreamingContext\n",
    "\n",
    "\n",
    "conf = SparkConf().setMaster('local[2]').setAppName('Join Operation').set('spark.executer.memory', '2g')\n",
    "sc = SparkContext(conf=conf)\n",
    "ssc = StreamingContext(sparkContext=sc, batchDuration=10)"
   ]
  },
  {
   "cell_type": "code",
   "execution_count": 2,
   "id": "a7f5488a-64f4-4603-aeea-8975ba470945",
   "metadata": {},
   "outputs": [],
   "source": [
    "transaction_rdd_queue = []\n",
    "for i in range(5): \n",
    "    transactions = [(customer_id, None) for customer_id in range(10)]\n",
    "    transaction_rdd = ssc.sparkContext.parallelize(transactions)\n",
    "    transaction_rdd_queue.append(transaction_rdd)"
   ]
  },
  {
   "cell_type": "code",
   "execution_count": 3,
   "id": "3da3b7b3-b389-4998-9c42-88f0d7cb24bf",
   "metadata": {},
   "outputs": [],
   "source": [
    "# Batch RDD of whether customers are good or bad. \n",
    "# (customer_id, is_good_customer)\n",
    "customers = [(0,True),(1,False), (2,True), (3,False), (4,True), (5,False), (6,True), (7,False), (8,True), (9,False)]\n",
    "customer_rdd = ssc.sparkContext.parallelize(customers)"
   ]
  },
  {
   "cell_type": "code",
   "execution_count": 4,
   "id": "29cc29d2-5506-4e3f-b0e5-30f21c7e0a7b",
   "metadata": {},
   "outputs": [],
   "source": [
    "# Creating queue stream\n",
    "ds = ssc.queueStream(transaction_rdd_queue)"
   ]
  },
  {
   "cell_type": "code",
   "execution_count": 5,
   "id": "84a4f125-261f-4c8f-9ac7-441b819db8ea",
   "metadata": {},
   "outputs": [],
   "source": [
    "# Join the streaming RDD and batch RDDs to filter out bad customers.\n",
    "dst = ds.transform(lambda rdd: rdd.join(customer_rdd)).filter(lambda rdd: rdd[1][1] == False)\n",
    "\n",
    "## END OF EXERCISE SECTION ==================================\n",
    "dst.pprint()"
   ]
  },
  {
   "cell_type": "code",
   "execution_count": 6,
   "id": "26022646-bd51-4182-bf34-0f3d6edfc0b2",
   "metadata": {},
   "outputs": [
    {
     "name": "stderr",
     "output_type": "stream",
     "text": [
      "                                                                                \r"
     ]
    },
    {
     "name": "stdout",
     "output_type": "stream",
     "text": [
      "-------------------------------------------\n",
      "Time: 2023-11-20 15:08:10\n",
      "-------------------------------------------\n",
      "(1, (None, False))\n",
      "(5, (None, False))\n",
      "(9, (None, False))\n",
      "(3, (None, False))\n",
      "(7, (None, False))\n",
      "\n",
      "-------------------------------------------\n",
      "Time: 2023-11-20 15:08:20\n",
      "-------------------------------------------\n",
      "(1, (None, False))\n",
      "(5, (None, False))\n",
      "(9, (None, False))\n",
      "(3, (None, False))\n",
      "(7, (None, False))\n",
      "\n"
     ]
    }
   ],
   "source": [
    "ssc.start()\n",
    "# time.sleep(6)\n",
    "# ssc.stop()"
   ]
  },
  {
   "cell_type": "code",
   "execution_count": null,
   "id": "d5207141-4983-4067-896d-1b02ea5a5806",
   "metadata": {},
   "outputs": [],
   "source": []
  }
 ],
 "metadata": {
  "kernelspec": {
   "display_name": "Python 3 (ipykernel)",
   "language": "python",
   "name": "python3"
  },
  "language_info": {
   "codemirror_mode": {
    "name": "ipython",
    "version": 3
   },
   "file_extension": ".py",
   "mimetype": "text/x-python",
   "name": "python",
   "nbconvert_exporter": "python",
   "pygments_lexer": "ipython3",
   "version": "3.10.11"
  }
 },
 "nbformat": 4,
 "nbformat_minor": 5
}
