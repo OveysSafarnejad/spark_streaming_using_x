{
 "cells": [
  {
   "cell_type": "code",
   "execution_count": 1,
   "id": "5ad1b8df-5b29-413d-8729-1f38c13e28eb",
   "metadata": {},
   "outputs": [
    {
     "name": "stderr",
     "output_type": "stream",
     "text": [
      "Setting default log level to \"WARN\".\n",
      "To adjust logging level use sc.setLogLevel(newLevel). For SparkR, use setLogLevel(newLevel).\n",
      "23/11/20 14:56:29 WARN NativeCodeLoader: Unable to load native-hadoop library for your platform... using builtin-java classes where applicable\n",
      "/Users/audioworkstation/Documents/WORKSPACE/LEARNING/spark_streaming_using_x/spark-3.5.0-bin-hadoop3/python/pyspark/streaming/context.py:72: FutureWarning: DStream is deprecated as of Spark 3.4.0. Migrate to Structured Streaming.\n",
      "  warnings.warn(\n"
     ]
    }
   ],
   "source": [
    "import os\n",
    "import pathlib\n",
    "import time\n",
    "\n",
    "import findspark\n",
    "\n",
    "prj_dir = pathlib.Path().resolve().parent.parent\n",
    "spark_home = os.path.join(prj_dir / 'spark-3.5.0-bin-hadoop3')\n",
    "\n",
    "findspark.init(spark_home)\n",
    "\n",
    "from pyspark import SparkConf, SparkContext\n",
    "from pyspark.streaming import StreamingContext\n",
    "\n",
    "\n",
    "conf = SparkConf().setMaster('local[2]').setAppName('Join Operation').set('spark.executer.memory', '2g')\n",
    "sc = SparkContext(conf=conf)\n",
    "ssc = StreamingContext(sparkContext=sc, batchDuration=10)"
   ]
  },
  {
   "cell_type": "code",
   "execution_count": 2,
   "id": "39c1f1b4-c8f4-4a6e-b46e-25f835134ea6",
   "metadata": {},
   "outputs": [],
   "source": [
    "host = '127.0.0.1'\n",
    "port = '5555'\n",
    "\n",
    "\n",
    "ips_dstream = ssc.socketTextStream(host, int(port))\n",
    "ips_pairs_dstream = ips_dstream.flatMap(lambda line: line.split(' ')).map(lambda ip: (ip, 1)).reduceByKey(lambda x, y: x + y)\n",
    "\n",
    "ips = ssc.sparkContext.parallelize(set())\n",
    "matches_ds = ips_pairs_dstream.transform(lambda rdd: rdd.join(ips))\n",
    "matches_ds.pprint()"
   ]
  },
  {
   "cell_type": "code",
   "execution_count": null,
   "id": "456eb505-0d50-4d96-aa2d-f37169b0c63d",
   "metadata": {},
   "outputs": [
    {
     "name": "stderr",
     "output_type": "stream",
     "text": [
      "                                                                                \r"
     ]
    },
    {
     "name": "stdout",
     "output_type": "stream",
     "text": [
      "-------------------------------------------\n",
      "Time: 2023-11-20 14:56:40\n",
      "-------------------------------------------\n",
      "\n"
     ]
    },
    {
     "name": "stderr",
     "output_type": "stream",
     "text": [
      "23/11/20 14:56:50 WARN RandomBlockReplicationPolicy: Expecting 1 replicas with only 0 peer/s.\n",
      "23/11/20 14:56:50 WARN BlockManager: Block input-0-1700488609800 replicated to only 0 peer(s) instead of 1 peers\n",
      "                                                                                \r"
     ]
    },
    {
     "name": "stdout",
     "output_type": "stream",
     "text": [
      "-------------------------------------------\n",
      "Time: 2023-11-20 14:56:50\n",
      "-------------------------------------------\n",
      "\n"
     ]
    },
    {
     "name": "stderr",
     "output_type": "stream",
     "text": [
      "23/11/20 14:56:58 WARN RandomBlockReplicationPolicy: Expecting 1 replicas with only 0 peer/s.\n",
      "23/11/20 14:56:58 WARN BlockManager: Block input-0-1700488618200 replicated to only 0 peer(s) instead of 1 peers\n",
      "                                                                                \r"
     ]
    },
    {
     "name": "stdout",
     "output_type": "stream",
     "text": [
      "-------------------------------------------\n",
      "Time: 2023-11-20 14:57:00\n",
      "-------------------------------------------\n",
      "\n"
     ]
    },
    {
     "name": "stderr",
     "output_type": "stream",
     "text": [
      "23/11/20 14:57:06 WARN RandomBlockReplicationPolicy: Expecting 1 replicas with only 0 peer/s.\n",
      "23/11/20 14:57:06 WARN BlockManager: Block input-0-1700488626000 replicated to only 0 peer(s) instead of 1 peers\n",
      "                                                                                \r"
     ]
    },
    {
     "name": "stdout",
     "output_type": "stream",
     "text": [
      "-------------------------------------------\n",
      "Time: 2023-11-20 14:57:10\n",
      "-------------------------------------------\n",
      "('1.2.3.4', (2, 1))\n",
      "\n"
     ]
    },
    {
     "name": "stderr",
     "output_type": "stream",
     "text": [
      "23/11/20 14:57:19 WARN RandomBlockReplicationPolicy: Expecting 1 replicas with only 0 peer/s.\n",
      "23/11/20 14:57:19 WARN BlockManager: Block input-0-1700488638800 replicated to only 0 peer(s) instead of 1 peers\n",
      "23/11/20 14:57:20 WARN RandomBlockReplicationPolicy: Expecting 1 replicas with only 0 peer/s.\n",
      "23/11/20 14:57:20 WARN BlockManager: Block input-0-1700488640000 replicated to only 0 peer(s) instead of 1 peers\n",
      "23/11/20 14:57:20 WARN RandomBlockReplicationPolicy: Expecting 1 replicas with only 0 peer/s.\n",
      "23/11/20 14:57:20 WARN BlockManager: Block input-0-1700488640600 replicated to only 0 peer(s) instead of 1 peers\n",
      "                                                                                \r"
     ]
    },
    {
     "name": "stdout",
     "output_type": "stream",
     "text": [
      "-------------------------------------------\n",
      "Time: 2023-11-20 14:57:20\n",
      "-------------------------------------------\n",
      "\n"
     ]
    },
    {
     "name": "stderr",
     "output_type": "stream",
     "text": [
      "                                                                                \r"
     ]
    },
    {
     "name": "stdout",
     "output_type": "stream",
     "text": [
      "-------------------------------------------\n",
      "Time: 2023-11-20 14:57:30\n",
      "-------------------------------------------\n",
      "\n"
     ]
    },
    {
     "name": "stderr",
     "output_type": "stream",
     "text": [
      "23/11/20 14:57:34 WARN RandomBlockReplicationPolicy: Expecting 1 replicas with only 0 peer/s.\n",
      "23/11/20 14:57:34 WARN BlockManager: Block input-0-1700488654600 replicated to only 0 peer(s) instead of 1 peers\n",
      "23/11/20 14:57:35 WARN RandomBlockReplicationPolicy: Expecting 1 replicas with only 0 peer/s.\n",
      "23/11/20 14:57:35 WARN BlockManager: Block input-0-1700488655400 replicated to only 0 peer(s) instead of 1 peers\n",
      "23/11/20 14:57:36 WARN RandomBlockReplicationPolicy: Expecting 1 replicas with only 0 peer/s.\n",
      "23/11/20 14:57:36 WARN BlockManager: Block input-0-1700488655800 replicated to only 0 peer(s) instead of 1 peers\n",
      "                                                                                \r"
     ]
    },
    {
     "name": "stdout",
     "output_type": "stream",
     "text": [
      "-------------------------------------------\n",
      "Time: 2023-11-20 14:57:40\n",
      "-------------------------------------------\n",
      "('1.2.3.4', (6, 1))\n",
      "\n"
     ]
    },
    {
     "name": "stderr",
     "output_type": "stream",
     "text": [
      "[Stage 0:>                                                          (0 + 1) / 1]\r"
     ]
    }
   ],
   "source": [
    "ssc.start()\n",
    "\n",
    "\n",
    "# GENERATING A RANDOM IP FOR JOIN EVERY 15 SECONDS\n",
    "\n",
    "IP_FILES = ['./data/ip1.txt', './data/ip2.txt']\n",
    "current_file = 0\n",
    "\n",
    "while True:\n",
    "\n",
    "    with open(IP_FILES[current_file], 'r') as f:\n",
    "        ips_string = f.read().splitlines()\n",
    "    ips = ssc.sparkContext.parallelize(ips_string).map(lambda ip: (ip, 1))\n",
    "    current_file = (current_file + 1) % len(IP_FILES)\n",
    "    time.sleep(15)"
   ]
  },
  {
   "cell_type": "code",
   "execution_count": null,
   "id": "0d259408-56af-4ee3-b259-4cfb1905f440",
   "metadata": {},
   "outputs": [],
   "source": []
  }
 ],
 "metadata": {
  "kernelspec": {
   "display_name": "Python 3 (ipykernel)",
   "language": "python",
   "name": "python3"
  },
  "language_info": {
   "codemirror_mode": {
    "name": "ipython",
    "version": 3
   },
   "file_extension": ".py",
   "mimetype": "text/x-python",
   "name": "python",
   "nbconvert_exporter": "python",
   "pygments_lexer": "ipython3",
   "version": "3.10.11"
  }
 },
 "nbformat": 4,
 "nbformat_minor": 5
}
