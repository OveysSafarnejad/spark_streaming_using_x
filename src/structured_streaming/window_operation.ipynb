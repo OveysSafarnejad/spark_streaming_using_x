{
 "cells": [
  {
   "cell_type": "code",
   "execution_count": 1,
   "id": "d4d8c842-7b5d-44b7-886b-674ec6fe5c4e",
   "metadata": {},
   "outputs": [],
   "source": [
    "import findspark\n",
    "\n",
    "from pyspark.sql import SparkSession\n",
    "from pyspark.sql.functions import window\n",
    "from pyspark.sql.types import StructType, StructField, TimestampType, IntegerType, FloatType, StringType\n"
   ]
  },
  {
   "cell_type": "code",
   "execution_count": 2,
   "id": "f206bfb7-3e55-40f1-b7a1-ee6fe9b759a7",
   "metadata": {},
   "outputs": [
    {
     "name": "stderr",
     "output_type": "stream",
     "text": [
      "Setting default log level to \"WARN\".\n",
      "To adjust logging level use sc.setLogLevel(newLevel). For SparkR, use setLogLevel(newLevel).\n",
      "24/03/25 21:06:26 WARN NativeCodeLoader: Unable to load native-hadoop library for your platform... using builtin-java classes where applicable\n",
      "24/03/25 21:06:27 WARN Utils: Service 'SparkUI' could not bind on port 4040. Attempting port 4041.\n"
     ]
    }
   ],
   "source": [
    "findspark.init('/opt/spark-3.5.0/')\n",
    "\n",
    "spark = SparkSession\\\n",
    "    .builder\\\n",
    "    .appName(\"InteractionCount\")\\\n",
    "    .config(\"spark.eventLog.enabled\", \"true\")\\\n",
    "    .config(\"spark.eventLog.dir\", \"applicationHistory\")\\\n",
    "    .master(\"local[*]\")\\\n",
    "    .getOrCreate()"
   ]
  },
  {
   "cell_type": "code",
   "execution_count": 3,
   "id": "43867cd1-6935-4630-b811-d0ae15fc8fb7",
   "metadata": {},
   "outputs": [],
   "source": [
    "interactions_schema = StructType() \\\n",
    "    .add(StructField('user_a', StringType())) \\\n",
    "    .add(StructField('user_b', StringType())) \\\n",
    "    .add(StructField('timestamp', TimestampType())) \\\n",
    "    .add(StructField('interaction', StringType()))"
   ]
  },
  {
   "cell_type": "code",
   "execution_count": 4,
   "id": "3dd77f83-f7c9-4371-9753-0e6f46556150",
   "metadata": {},
   "outputs": [],
   "source": [
    "interactions = spark.readStream.schema(interactions_schema).option('sep', ',').csv('interactions/*.csv')"
   ]
  },
  {
   "cell_type": "code",
   "execution_count": 5,
   "id": "b9104895-41be-4421-9d2f-5aa3a3fc614c",
   "metadata": {},
   "outputs": [],
   "source": [
    "windowed_count = interactions \\\n",
    "    .withWatermark(eventTime='timestamp', delayThreshold='5 minute') \\\n",
    "    .groupBy(window(timeColumn='timestamp', windowDuration='1 minute', slideDuration='40 seconds'), \"user_a\") \\\n",
    "    .count() \\\n",
    "    .orderBy('window')\n"
   ]
  },
  {
   "cell_type": "code",
   "execution_count": null,
   "id": "e62ff13e-449f-4286-b3a6-a14f03e0f3f8",
   "metadata": {},
   "outputs": [
    {
     "name": "stderr",
     "output_type": "stream",
     "text": [
      "24/03/25 21:06:31 WARN ResolveWriteToStream: Temporary checkpoint location created which is deleted normally when the query didn't fail: /private/var/folders/v4/r34w0mtd5xzfzyxp6hnbp8y00000gn/T/temporary-d3b35c37-64b7-45a8-b193-867b695f2887. If it's required to delete it under any circumstances, please set spark.sql.streaming.forceDeleteTempCheckpointLocation to true. Important to know deleting temp checkpoint folder is best effort.\n",
      "24/03/25 21:06:31 WARN ResolveWriteToStream: spark.sql.adaptive.enabled is not supported in streaming DataFrames/Datasets and will be disabled.\n",
      "                                                                                \r"
     ]
    },
    {
     "name": "stdout",
     "output_type": "stream",
     "text": [
      "-------------------------------------------\n",
      "Batch: 0\n",
      "-------------------------------------------\n",
      "+------------------------------------------+------+-----+\n",
      "|window                                    |user_a|count|\n",
      "+------------------------------------------+------+-----+\n",
      "|{2012-07-04 00:56:00, 2012-07-04 00:57:00}|454613|4    |\n",
      "|{2012-07-04 00:56:40, 2012-07-04 00:57:40}|454613|4    |\n",
      "|{2012-07-05 00:56:00, 2012-07-05 00:57:00}|454613|3    |\n",
      "|{2012-07-05 00:56:40, 2012-07-05 00:57:40}|454613|3    |\n",
      "|{2012-07-06 00:56:00, 2012-07-06 00:57:00}|454613|1    |\n",
      "|{2012-07-06 00:56:40, 2012-07-06 00:57:40}|454613|1    |\n",
      "+------------------------------------------+------+-----+\n",
      "\n"
     ]
    },
    {
     "name": "stderr",
     "output_type": "stream",
     "text": [
      "24/03/25 21:06:45 WARN ProcessingTimeExecutor: Current batch is falling behind. The trigger interval is 12000 milliseconds, but spent 13985 milliseconds\n"
     ]
    }
   ],
   "source": [
    " \n",
    "windowed_count.writeStream \\\n",
    "    .format('console') \\\n",
    "    .outputMode('complete') \\\n",
    "    .option('truncate', 'false') \\\n",
    "    .option('numRows', '10000') \\\n",
    "    .trigger(processingTime='12 seconds') \\\n",
    "    .start() \\\n",
    "    .awaitTermination()\n"
   ]
  }
 ],
 "metadata": {
  "kernelspec": {
   "display_name": "Python 3 (ipykernel)",
   "language": "python",
   "name": "python3"
  },
  "language_info": {
   "codemirror_mode": {
    "name": "ipython",
    "version": 3
   },
   "file_extension": ".py",
   "mimetype": "text/x-python",
   "name": "python",
   "nbconvert_exporter": "python",
   "pygments_lexer": "ipython3",
   "version": "3.11.0"
  }
 },
 "nbformat": 4,
 "nbformat_minor": 5
}
