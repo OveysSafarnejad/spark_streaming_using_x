{
 "cells": [
  {
   "cell_type": "code",
   "execution_count": null,
   "id": "3dd77f83-f7c9-4371-9753-0e6f46556150",
   "metadata": {},
   "outputs": [
    {
     "name": "stderr",
     "output_type": "stream",
     "text": [
      "Setting default log level to \"WARN\".\n",
      "To adjust logging level use sc.setLogLevel(newLevel). For SparkR, use setLogLevel(newLevel).\n",
      "23/11/24 11:44:27 WARN NativeCodeLoader: Unable to load native-hadoop library for your platform... using builtin-java classes where applicable\n",
      "23/11/24 11:44:30 WARN ResolveWriteToStream: Temporary checkpoint location created which is deleted normally when the query didn't fail: /private/var/folders/g6/vgc6wxj13x95m3zxhrn480540000gn/T/temporary-f2dcf605-70f8-41b4-8019-f73088e3bae3. If it's required to delete it under any circumstances, please set spark.sql.streaming.forceDeleteTempCheckpointLocation to true. Important to know deleting temp checkpoint folder is best effort.\n",
      "23/11/24 11:44:30 WARN ResolveWriteToStream: spark.sql.adaptive.enabled is not supported in streaming DataFrames/Datasets and will be disabled.\n",
      "                                                                                \r"
     ]
    },
    {
     "name": "stdout",
     "output_type": "stream",
     "text": [
      "-------------------------------------------\n",
      "Batch: 0\n",
      "-------------------------------------------\n",
      "+------------------------------------------+------+-----+\n",
      "|window                                    |user_a|count|\n",
      "+------------------------------------------+------+-----+\n",
      "|{2012-07-04 00:56:40, 2012-07-04 00:57:40}|454613|4    |\n",
      "|{2012-07-06 00:56:00, 2012-07-06 00:57:00}|454613|1    |\n",
      "|{2012-07-06 00:56:40, 2012-07-06 00:57:40}|454613|1    |\n",
      "|{2012-07-04 00:56:00, 2012-07-04 00:57:00}|454613|4    |\n",
      "|{2012-07-05 00:56:40, 2012-07-05 00:57:40}|454613|3    |\n",
      "|{2012-07-05 00:56:00, 2012-07-05 00:57:00}|454613|3    |\n",
      "+------------------------------------------+------+-----+\n",
      "\n"
     ]
    }
   ],
   "source": [
    "import os\n",
    "import pathlib\n",
    "import findspark\n",
    "\n",
    "from pyspark.sql import SparkSession\n",
    "from pyspark.sql.functions import explode, split, current_timestamp, window\n",
    "from pyspark.sql.types import StructType, TimestampType, StructField, IntegerType, FloatType, StringType\n",
    "\n",
    "prj_dir = pathlib.Path().resolve().parent.parent\n",
    "spark_home = os.path.join(prj_dir / 'spark-3.5.0-bin-hadoop3')\n",
    "findspark.init(spark_home)\n",
    "\n",
    "spark = SparkSession\\\n",
    "    .builder\\\n",
    "    .appName(\"InteractionCount\")\\\n",
    "    .config(\"spark.eventLog.enabled\", \"true\")\\\n",
    "    .config(\"spark.eventLog.dir\", \"applicationHistory\")\\\n",
    "    .master(\"local[*]\")\\\n",
    "    .getOrCreate()\n",
    "\n",
    "interactions_schema = StructType() \\\n",
    "    .add(StructField('user_a', StringType())) \\\n",
    "    .add(StructField('user_b', StringType())) \\\n",
    "    .add(StructField('timestamp', TimestampType())) \\\n",
    "    .add(StructField('interaction', StringType()))\n",
    "\n",
    "interactions = spark.readStream.schema(interactions_schema).csv('interactions/*.csv')\n",
    "\n",
    "windowed_count = interactions.groupBy(\n",
    "    window(\"timestamp\", '60 seconds', '40 seconds'),\n",
    "    \"user_a\"\n",
    ").count()\n",
    "# .withWatermark(\"interactions_user_a\", \"1 minute\")  # Specify the watermark on the timestamp column\n",
    " \n",
    "windowed_count.writeStream \\\n",
    "    .format('console') \\\n",
    "    .outputMode('complete') \\\n",
    "    .option('truncate', 'false') \\\n",
    "    .option('numRows', '10000') \\\n",
    "    .trigger(processingTime='12 seconds') \\\n",
    "    .start() \\\n",
    "    .awaitTermination()\n",
    "\n"
   ]
  }
 ],
 "metadata": {
  "kernelspec": {
   "display_name": "Python 3 (ipykernel)",
   "language": "python",
   "name": "python3"
  },
  "language_info": {
   "codemirror_mode": {
    "name": "ipython",
    "version": 3
   },
   "file_extension": ".py",
   "mimetype": "text/x-python",
   "name": "python",
   "nbconvert_exporter": "python",
   "pygments_lexer": "ipython3",
   "version": "3.10.11"
  }
 },
 "nbformat": 4,
 "nbformat_minor": 5
}
