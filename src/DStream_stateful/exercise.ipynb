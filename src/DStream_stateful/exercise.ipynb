{
 "cells": [
  {
   "cell_type": "code",
   "execution_count": 1,
   "id": "9eaece4c-a572-4e04-9fb7-d181e5d37145",
   "metadata": {},
   "outputs": [
    {
     "name": "stderr",
     "output_type": "stream",
     "text": [
      "Setting default log level to \"WARN\".\n",
      "To adjust logging level use sc.setLogLevel(newLevel). For SparkR, use setLogLevel(newLevel).\n",
      "23/11/21 11:21:36 WARN NativeCodeLoader: Unable to load native-hadoop library for your platform... using builtin-java classes where applicable\n",
      "23/11/21 11:21:37 WARN Utils: Service 'SparkUI' could not bind on port 4040. Attempting port 4041.\n",
      "/Users/audioworkstation/Documents/WORKSPACE/LEARNING/spark_streaming_using_x/spark-3.5.0-bin-hadoop3/python/pyspark/streaming/context.py:72: FutureWarning: DStream is deprecated as of Spark 3.4.0. Migrate to Structured Streaming.\n",
      "  warnings.warn(\n"
     ]
    }
   ],
   "source": [
    "import os\n",
    "import pathlib\n",
    "import time\n",
    "\n",
    "import findspark\n",
    "\n",
    "prj_dir = pathlib.Path().resolve().parent.parent\n",
    "spark_home = os.path.join(prj_dir / 'spark-3.5.0-bin-hadoop3')\n",
    "\n",
    "findspark.init(spark_home)\n",
    "\n",
    "from pyspark import SparkConf, SparkContext\n",
    "from pyspark.streaming import StreamingContext\n",
    "\n",
    "\n",
    "conf = SparkConf().setMaster('local[2]').setAppName('Join Operation').set('spark.executer.memory', '2g')\n",
    "sc = SparkContext(conf=conf)\n",
    "ssc = StreamingContext(sparkContext=sc, batchDuration=10)\n",
    "ssc.checkpoint('checkpoint')"
   ]
  },
  {
   "cell_type": "code",
   "execution_count": 2,
   "id": "53146784-4a03-43fc-b919-f04ccb6e2cb8",
   "metadata": {},
   "outputs": [],
   "source": [
    "def update_state(new_vals, curr_state):\n",
    "    if curr_state is None:\n",
    "        curr_state = 0\n",
    "    return sum(new_vals,  curr_state)"
   ]
  },
  {
   "cell_type": "code",
   "execution_count": 3,
   "id": "71fcbd84-94b4-4d40-8c68-ee6cc5f0cee7",
   "metadata": {},
   "outputs": [],
   "source": [
    "host= '127.0.0.1'\n",
    "port = 5555\n",
    "ds = ssc.socketTextStream(host, port)"
   ]
  },
  {
   "cell_type": "code",
   "execution_count": 4,
   "id": "84bef20b-6b82-474a-bdb8-e73311ca8c29",
   "metadata": {},
   "outputs": [],
   "source": [
    "dst = ds.map(lambda num: int(num)%10).map(lambda num: (num, 1)).updateStateByKey(update_state)\n",
    "dst.pprint()\n",
    "dst.count().pprint()"
   ]
  },
  {
   "cell_type": "code",
   "execution_count": null,
   "id": "98a5827b-f4b2-46bd-b6f0-eb3d48e3eb84",
   "metadata": {},
   "outputs": [
    {
     "name": "stderr",
     "output_type": "stream",
     "text": [
      "23/11/21 11:21:40 WARN RandomBlockReplicationPolicy: Expecting 1 replicas with only 0 peer/s.\n",
      "23/11/21 11:21:40 WARN BlockManager: Block input-0-1700562100600 replicated to only 0 peer(s) instead of 1 peers\n",
      "23/11/21 11:21:41 WARN RandomBlockReplicationPolicy: Expecting 1 replicas with only 0 peer/s.\n",
      "23/11/21 11:21:41 WARN BlockManager: Block input-0-1700562101000 replicated to only 0 peer(s) instead of 1 peers\n",
      "23/11/21 11:21:41 WARN RandomBlockReplicationPolicy: Expecting 1 replicas with only 0 peer/s.\n",
      "23/11/21 11:21:41 WARN BlockManager: Block input-0-1700562101200 replicated to only 0 peer(s) instead of 1 peers\n",
      "23/11/21 11:21:41 WARN RandomBlockReplicationPolicy: Expecting 1 replicas with only 0 peer/s.\n",
      "23/11/21 11:21:41 WARN BlockManager: Block input-0-1700562101600 replicated to only 0 peer(s) instead of 1 peers\n"
     ]
    },
    {
     "name": "stdout",
     "output_type": "stream",
     "text": [
      "-------------------------------------------\n",
      "Time: 2023-11-21 11:21:40\n",
      "-------------------------------------------\n",
      "\n"
     ]
    },
    {
     "name": "stderr",
     "output_type": "stream",
     "text": [
      "23/11/21 11:21:42 WARN RandomBlockReplicationPolicy: Expecting 1 replicas with only 0 peer/s.\n",
      "23/11/21 11:21:42 WARN BlockManager: Block input-0-1700562102000 replicated to only 0 peer(s) instead of 1 peers\n"
     ]
    },
    {
     "name": "stdout",
     "output_type": "stream",
     "text": [
      "-------------------------------------------\n",
      "Time: 2023-11-21 11:21:40\n",
      "-------------------------------------------\n",
      "0\n",
      "\n"
     ]
    },
    {
     "name": "stderr",
     "output_type": "stream",
     "text": [
      "                                                                                \r"
     ]
    },
    {
     "name": "stdout",
     "output_type": "stream",
     "text": [
      "-------------------------------------------\n",
      "Time: 2023-11-21 11:21:50\n",
      "-------------------------------------------\n",
      "(2, 1)\n",
      "(4, 1)\n",
      "(1, 1)\n",
      "(3, 1)\n",
      "(5, 1)\n",
      "\n",
      "-------------------------------------------\n",
      "Time: 2023-11-21 11:21:50\n",
      "-------------------------------------------\n",
      "5\n",
      "\n"
     ]
    },
    {
     "name": "stderr",
     "output_type": "stream",
     "text": [
      "23/11/21 11:21:53 WARN RandomBlockReplicationPolicy: Expecting 1 replicas with only 0 peer/s.\n",
      "23/11/21 11:21:53 WARN BlockManager: Block input-0-1700562113000 replicated to only 0 peer(s) instead of 1 peers\n",
      "23/11/21 11:21:53 WARN RandomBlockReplicationPolicy: Expecting 1 replicas with only 0 peer/s.\n",
      "23/11/21 11:21:53 WARN BlockManager: Block input-0-1700562113400 replicated to only 0 peer(s) instead of 1 peers\n",
      "23/11/21 11:21:53 WARN RandomBlockReplicationPolicy: Expecting 1 replicas with only 0 peer/s.\n",
      "23/11/21 11:21:53 WARN BlockManager: Block input-0-1700562113600 replicated to only 0 peer(s) instead of 1 peers\n",
      "                                                                                \r"
     ]
    },
    {
     "name": "stdout",
     "output_type": "stream",
     "text": [
      "-------------------------------------------\n",
      "Time: 2023-11-21 11:22:00\n",
      "-------------------------------------------\n",
      "(2, 2)\n",
      "(4, 1)\n",
      "(1, 2)\n",
      "(3, 2)\n",
      "(5, 1)\n",
      "\n",
      "-------------------------------------------\n",
      "Time: 2023-11-21 11:22:00\n",
      "-------------------------------------------\n",
      "5\n",
      "\n"
     ]
    },
    {
     "name": "stderr",
     "output_type": "stream",
     "text": [
      "                                                                                \r"
     ]
    },
    {
     "name": "stdout",
     "output_type": "stream",
     "text": [
      "-------------------------------------------\n",
      "Time: 2023-11-21 11:22:10\n",
      "-------------------------------------------\n",
      "(2, 2)\n",
      "(4, 1)\n",
      "(1, 2)\n",
      "(3, 2)\n",
      "(5, 1)\n",
      "\n",
      "-------------------------------------------\n",
      "Time: 2023-11-21 11:22:10\n",
      "-------------------------------------------\n",
      "5\n",
      "\n"
     ]
    },
    {
     "name": "stderr",
     "output_type": "stream",
     "text": [
      "23/11/21 11:22:11 WARN RandomBlockReplicationPolicy: Expecting 1 replicas with only 0 peer/s.\n",
      "23/11/21 11:22:11 WARN BlockManager: Block input-0-1700562131400 replicated to only 0 peer(s) instead of 1 peers\n",
      "23/11/21 11:22:17 WARN RandomBlockReplicationPolicy: Expecting 1 replicas with only 0 peer/s.\n",
      "23/11/21 11:22:17 WARN BlockManager: Block input-0-1700562136800 replicated to only 0 peer(s) instead of 1 peers\n",
      "23/11/21 11:22:19 WARN RandomBlockReplicationPolicy: Expecting 1 replicas with only 0 peer/s.\n",
      "23/11/21 11:22:19 WARN BlockManager: Block input-0-1700562139000 replicated to only 0 peer(s) instead of 1 peers\n",
      "                                                                                \r"
     ]
    },
    {
     "name": "stdout",
     "output_type": "stream",
     "text": [
      "-------------------------------------------\n",
      "Time: 2023-11-21 11:22:20\n",
      "-------------------------------------------\n",
      "(2, 2)\n",
      "(4, 1)\n",
      "(8, 1)\n",
      "(1, 3)\n",
      "(3, 2)\n",
      "(5, 1)\n",
      "(9, 1)\n",
      "\n",
      "-------------------------------------------\n",
      "Time: 2023-11-21 11:22:20\n",
      "-------------------------------------------\n",
      "7\n",
      "\n"
     ]
    },
    {
     "name": "stderr",
     "output_type": "stream",
     "text": [
      "23/11/21 11:22:29 WARN RandomBlockReplicationPolicy: Expecting 1 replicas with only 0 peer/s.\n",
      "23/11/21 11:22:29 WARN BlockManager: Block input-0-1700562149400 replicated to only 0 peer(s) instead of 1 peers\n",
      "                                                                                \r"
     ]
    },
    {
     "name": "stdout",
     "output_type": "stream",
     "text": [
      "-------------------------------------------\n",
      "Time: 2023-11-21 11:22:30\n",
      "-------------------------------------------\n",
      "(2, 2)\n",
      "(4, 1)\n",
      "(8, 1)\n",
      "(1, 3)\n",
      "(3, 2)\n",
      "(5, 1)\n",
      "(9, 2)\n",
      "\n",
      "-------------------------------------------\n",
      "Time: 2023-11-21 11:22:30\n",
      "-------------------------------------------\n",
      "7\n",
      "\n"
     ]
    },
    {
     "name": "stderr",
     "output_type": "stream",
     "text": [
      "23/11/21 11:22:35 WARN RandomBlockReplicationPolicy: Expecting 1 replicas with only 0 peer/s.\n",
      "23/11/21 11:22:35 WARN BlockManager: Block input-0-1700562155600 replicated to only 0 peer(s) instead of 1 peers\n",
      "23/11/21 11:22:37 WARN RandomBlockReplicationPolicy: Expecting 1 replicas with only 0 peer/s.\n",
      "23/11/21 11:22:37 WARN BlockManager: Block input-0-1700562156800 replicated to only 0 peer(s) instead of 1 peers\n",
      "23/11/21 11:22:38 WARN RandomBlockReplicationPolicy: Expecting 1 replicas with only 0 peer/s.\n",
      "23/11/21 11:22:38 WARN BlockManager: Block input-0-1700562157800 replicated to only 0 peer(s) instead of 1 peers\n",
      "                                                                                \r"
     ]
    },
    {
     "name": "stdout",
     "output_type": "stream",
     "text": [
      "-------------------------------------------\n",
      "Time: 2023-11-21 11:22:40\n",
      "-------------------------------------------\n",
      "(2, 2)\n",
      "(4, 1)\n",
      "(8, 1)\n",
      "(6, 1)\n",
      "(1, 3)\n",
      "(3, 2)\n",
      "(5, 2)\n",
      "(9, 2)\n",
      "(7, 1)\n",
      "\n",
      "-------------------------------------------\n",
      "Time: 2023-11-21 11:22:40\n",
      "-------------------------------------------\n",
      "9\n",
      "\n"
     ]
    },
    {
     "name": "stderr",
     "output_type": "stream",
     "text": [
      "                                                                                \r"
     ]
    },
    {
     "name": "stdout",
     "output_type": "stream",
     "text": [
      "-------------------------------------------\n",
      "Time: 2023-11-21 11:22:50\n",
      "-------------------------------------------\n",
      "(2, 2)\n",
      "(4, 1)\n",
      "(8, 1)\n",
      "(6, 1)\n",
      "(1, 3)\n",
      "(3, 2)\n",
      "(5, 2)\n",
      "(9, 2)\n",
      "(7, 1)\n",
      "\n",
      "-------------------------------------------\n",
      "Time: 2023-11-21 11:22:50\n",
      "-------------------------------------------\n",
      "9\n",
      "\n"
     ]
    },
    {
     "name": "stderr",
     "output_type": "stream",
     "text": [
      "[Stage 0:>                                                          (0 + 1) / 1]\r"
     ]
    }
   ],
   "source": [
    "ssc.start()\n",
    "ssc.awaitTermination()"
   ]
  },
  {
   "cell_type": "code",
   "execution_count": null,
   "id": "c6b40f47-1dbc-4b97-a5d8-98ba2a274fdb",
   "metadata": {},
   "outputs": [],
   "source": []
  }
 ],
 "metadata": {
  "kernelspec": {
   "display_name": "Python 3 (ipykernel)",
   "language": "python",
   "name": "python3"
  },
  "language_info": {
   "codemirror_mode": {
    "name": "ipython",
    "version": 3
   },
   "file_extension": ".py",
   "mimetype": "text/x-python",
   "name": "python",
   "nbconvert_exporter": "python",
   "pygments_lexer": "ipython3",
   "version": "3.10.11"
  }
 },
 "nbformat": 4,
 "nbformat_minor": 5
}
