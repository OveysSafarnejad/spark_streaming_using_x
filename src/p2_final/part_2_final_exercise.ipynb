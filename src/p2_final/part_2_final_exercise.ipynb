{
 "cells": [
  {
   "cell_type": "code",
   "execution_count": 1,
   "id": "f6ae4287-7607-41aa-8416-9092b84626fe",
   "metadata": {},
   "outputs": [],
   "source": [
    "import os\n",
    "import pathlib\n",
    "\n",
    "import findspark\n",
    "\n",
    "prj_dir = pathlib.Path().resolve().parent.parent\n",
    "spark_home = os.path.join(prj_dir / 'spark-3.5.0-bin-hadoop3')\n",
    "\n",
    "findspark.init(spark_home)\n",
    "\n",
    "from pyspark import SparkConf, SparkContext\n",
    "from pyspark.streaming import StreamingContext\n",
    "from pyspark.sql import SparkSession, SQLContext, Row\n",
    "from pyspark.sql.functions import col\n",
    "\n",
    "from apache_log_parser import ApacheAccessLog"
   ]
  },
  {
   "cell_type": "code",
   "execution_count": 2,
   "id": "95efdef4-e659-4557-a2b9-341509ceaa88",
   "metadata": {},
   "outputs": [
    {
     "name": "stderr",
     "output_type": "stream",
     "text": [
      "Setting default log level to \"WARN\".\n",
      "To adjust logging level use sc.setLogLevel(newLevel). For SparkR, use setLogLevel(newLevel).\n",
      "23/11/20 12:46:23 WARN NativeCodeLoader: Unable to load native-hadoop library for your platform... using builtin-java classes where applicable\n",
      "/Users/audioworkstation/Documents/WORKSPACE/LEARNING/spark_streaming_using_x/spark-3.5.0-bin-hadoop3/python/pyspark/streaming/context.py:72: FutureWarning: DStream is deprecated as of Spark 3.4.0. Migrate to Structured Streaming.\n",
      "  warnings.warn(\n"
     ]
    }
   ],
   "source": [
    "conf = SparkConf().setMaster('local[2]').setAppName('FinalExercise').set(\n",
    "    'spark.executer.memory', '2g'\n",
    ")\n",
    "\n",
    "sc = SparkContext(conf=conf)\n",
    "ssc = StreamingContext(sparkContext=sc, batchDuration=20)\n",
    "\n",
    "ssc.checkpoint('checkpoint')"
   ]
  },
  {
   "cell_type": "code",
   "execution_count": 3,
   "id": "3b3a7c59-a7ce-4894-b2ce-1791f8c9de62",
   "metadata": {},
   "outputs": [],
   "source": [
    "curr_dir = pathlib.Path().resolve()\n",
    "logs_dir = os.path.join(curr_dir / 'logs')\n",
    "\n",
    "log_data = ssc.textFileStream(logs_dir)"
   ]
  },
  {
   "cell_type": "code",
   "execution_count": 4,
   "id": "909ee4d0-5141-4998-8ab6-da86ee9b1ede",
   "metadata": {},
   "outputs": [],
   "source": [
    "access_log_dstream = log_data.map(ApacheAccessLog.parse_from_log_line).filter(lambda line: line is not None)\n"
   ]
  },
  {
   "cell_type": "code",
   "execution_count": 5,
   "id": "266df2a7-0e35-4294-b504-1bf8e11c7017",
   "metadata": {},
   "outputs": [],
   "source": [
    "ip_dstream = access_log_dstream.map(lambda pl: (pl.ip ,1))\n",
    "ip_count = ip_dstream.reduceByKey(lambda x, y: x + y)\n",
    "\n",
    "ip_bytes_dstream = access_log_dstream.map(lambda pl: (pl.ip, pl.content_size))\n",
    "ip_bytes = ip_bytes_dstream.reduceByKey(lambda x, y: x + y)\n"
   ]
  },
  {
   "cell_type": "code",
   "execution_count": 6,
   "id": "e863ed8a-2661-44e9-9ad7-b88f37ac7716",
   "metadata": {},
   "outputs": [],
   "source": [
    "##### TODO: the ip_bytes_request_count_dstream & ip_bytes_sum_dstream DStreams\n",
    "# ip_count.join(ip_bytes).pprint()\n",
    "##########################"
   ]
  },
  {
   "cell_type": "code",
   "execution_count": 7,
   "id": "303835b8-cdcf-41f6-90b3-630cd98ead03",
   "metadata": {},
   "outputs": [],
   "source": [
    "# Write Dummy function `internalFunction` for transform() function\n",
    "# def internal_func(rdd):\n",
    "#     return rdd\n",
    "    \n",
    "####### TODO: Define transformed_access_log_dstream by applying the transform() function \n",
    "####### to the access_log_dstream \n",
    "# transformed_access_log_dstream = access_log_dstream.transform(internal_func)\n",
    "###############################"
   ]
  },
  {
   "cell_type": "code",
   "execution_count": 8,
   "id": "f549390d-e988-4405-91c6-36c76c2c9b91",
   "metadata": {},
   "outputs": [],
   "source": [
    "####### TODO: Use the window() function to count data over the access_log_stream\n",
    "# access_log_dstream.window(windowDuration=40, slideDuration=60).pprint()\n",
    "###############################"
   ]
  },
  {
   "cell_type": "code",
   "execution_count": 9,
   "id": "b47939b6-e51e-4b3b-b9ed-79542e32f669",
   "metadata": {},
   "outputs": [],
   "source": [
    "######## TODO: define ip_count_dstream of Ip counts per window using reduceByKeyAndWindow()\n",
    "# ip_count_dstream = ip_dstream.reduceByKeyAndWindow(\n",
    "#     lambda x, y: x + y ,\n",
    "#     windowDuration=40,\n",
    "#     slideDuration=60,\n",
    "#     invFunc = lambda x, y: x - y\n",
    "# )\n",
    "#############################\n",
    "\n",
    "# ip_count_dstream.pprint(num=30)"
   ]
  },
  {
   "cell_type": "code",
   "execution_count": 10,
   "id": "db5654c7-1a10-4e16-8481-7a2299fc5322",
   "metadata": {},
   "outputs": [],
   "source": [
    "# ip_dstream = access_log_dstream.map(lambda entry: entry.ip)\n",
    "######### TODO: Use the countByValueAndWindow() function on the ip_dstream\n",
    "######### to define ip_address_request_count\n",
    "\n",
    "# ip_address_request_count = ip_dstream.countByValueAndWindow(\n",
    "#     windowDuration=40,\n",
    "#     slideDuration=60\n",
    "# )\n",
    "# ip_address_request_count.pprint()\n",
    "#############################"
   ]
  },
  {
   "cell_type": "code",
   "execution_count": 11,
   "id": "56910fb1-6f1c-457c-8626-04cdc795cc4e",
   "metadata": {},
   "outputs": [],
   "source": [
    "######### TODO: Use the countByWindow() function on the ip_dstream\n",
    "######### To define ip_address_request_count\n",
    "\n",
    "ip_address_request_count = ip_dstream.countByWindow(\n",
    "    windowDuration=40,\n",
    "    slideDuration=60\n",
    ")\n",
    "ip_address_request_count.pprint()\n",
    "#############################"
   ]
  },
  {
   "cell_type": "code",
   "execution_count": 12,
   "id": "5c6db438-9ecd-440a-b7ab-f3ae5ed39f8c",
   "metadata": {},
   "outputs": [],
   "source": [
    "# This section runs a Running count of response codes using updateStateByKey()\n",
    "# This basically maintains a running sum , rather than sum in windows\n",
    "\n",
    "def state_full_sum(new_values, global_sum):\n",
    "    print(f\"NEW VALUES: {new_values}\")\n",
    "    print(f\"GLOBAL_SUM: {global_sum}\")\n",
    "    \n",
    "    return sum(new_values) + (global_sum or 0)\n",
    "\n",
    "response_code_dstream = access_log_dstream.map(lambda entry: (entry.response_code, 1))\n",
    "response_code_count_dstream = response_code_dstream.updateStateByKey(state_full_sum)\n",
    "response_code_count_dstream.pprint()"
   ]
  },
  {
   "cell_type": "code",
   "execution_count": 13,
   "id": "bf3eb3b5-8c49-47a5-9870-5372d0c79f51",
   "metadata": {},
   "outputs": [],
   "source": [
    "###### Save the IP address request count using the saveAsTextFiles() function #####\n",
    "\n",
    "ip_address_request_count.saveAsTextFiles(prefix='output', suffix='txt')\n",
    "################################"
   ]
  },
  {
   "cell_type": "code",
   "execution_count": 14,
   "id": "51d47157-3590-417c-a290-59204040492a",
   "metadata": {},
   "outputs": [],
   "source": [
    "ssc.start()"
   ]
  },
  {
   "cell_type": "code",
   "execution_count": null,
   "id": "da49895d-5d42-42e6-9122-9e3f3e1e3aad",
   "metadata": {},
   "outputs": [
    {
     "name": "stderr",
     "output_type": "stream",
     "text": [
      "NEW VALUES: [1]                                                     (0 + 1) / 1]\n",
      "GLOBAL_SUM: None\n",
      "NEW VALUES: [1]                                                                 \n",
      "GLOBAL_SUM: None\n",
      "NEW VALUES: [1, 1, 1, 1, 1, 1, 1, 1, 1, 1, 1, 1, 1, 1]\n",
      "GLOBAL_SUM: None\n"
     ]
    },
    {
     "name": "stdout",
     "output_type": "stream",
     "text": [
      "-------------------------------------------\n",
      "Time: 2023-11-20 12:46:40\n",
      "-------------------------------------------\n",
      "('304', 1)\n",
      "('401', 1)\n",
      "('200', 14)\n",
      "\n"
     ]
    },
    {
     "name": "stderr",
     "output_type": "stream",
     "text": [
      "NEW VALUES: []\n",
      "GLOBAL_SUM: 1\n",
      "NEW VALUES: []\n",
      "GLOBAL_SUM: 1\n",
      "NEW VALUES: []\n",
      "GLOBAL_SUM: 14\n"
     ]
    },
    {
     "name": "stdout",
     "output_type": "stream",
     "text": [
      "-------------------------------------------\n",
      "Time: 2023-11-20 12:47:00\n",
      "-------------------------------------------\n",
      "('304', 1)\n",
      "('401', 1)\n",
      "('200', 14)\n",
      "\n",
      "-------------------------------------------\n",
      "Time: 2023-11-20 12:47:20\n",
      "-------------------------------------------\n",
      "\n"
     ]
    },
    {
     "name": "stderr",
     "output_type": "stream",
     "text": [
      "NEW VALUES: []\n",
      "GLOBAL_SUM: 1\n",
      "NEW VALUES: []\n",
      "GLOBAL_SUM: 1\n",
      "NEW VALUES: []\n",
      "GLOBAL_SUM: 14\n"
     ]
    },
    {
     "name": "stdout",
     "output_type": "stream",
     "text": [
      "-------------------------------------------\n",
      "Time: 2023-11-20 12:47:20\n",
      "-------------------------------------------\n",
      "('304', 1)\n",
      "('401', 1)\n",
      "('200', 14)\n",
      "\n"
     ]
    }
   ],
   "source": [
    "ssc.awaitTerminationOrTimeout(timeout=100)"
   ]
  }
 ],
 "metadata": {
  "kernelspec": {
   "display_name": "Python 3 (ipykernel)",
   "language": "python",
   "name": "python3"
  },
  "language_info": {
   "codemirror_mode": {
    "name": "ipython",
    "version": 3
   },
   "file_extension": ".py",
   "mimetype": "text/x-python",
   "name": "python",
   "nbconvert_exporter": "python",
   "pygments_lexer": "ipython3",
   "version": "3.11.0"
  }
 },
 "nbformat": 4,
 "nbformat_minor": 5
}
