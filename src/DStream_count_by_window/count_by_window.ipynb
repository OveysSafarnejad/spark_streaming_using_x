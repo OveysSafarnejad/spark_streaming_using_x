{
 "cells": [
  {
   "cell_type": "code",
   "execution_count": null,
   "id": "91c8ed10-6e56-42df-b32a-999a9232abc2",
   "metadata": {},
   "outputs": [],
   "source": [
    "import os\n",
    "import sys\n",
    "import re\n",
    "import random\n",
    "import pathlib\n",
    "import findspark\n",
    "\n",
    "from pyspark import SparkContext\n",
    "from pyspark.sql import SparkSession\n",
    "from pyspark.streaming import StreamingContext\n",
    "from pyspark import SparkConf\n",
    "\n",
    "\n",
    "os.environ['SPARK_HOME'] = '/Users/audioworkstation/Documents/WORKSPACE/LEARNING/spark_streaming_using_x/spark-3.5.0-bin-hadoop3'\n",
    "os.environ['PYSPARK_DEIVER_PYTHON'] = 'jupyter'\n",
    "os.environ['PYSPARK_DRIVER_PYTHON_OPTS'] = 'lab'\n",
    "os.environ['PYSPARK_PYTHON'] = 'python'\n",
    "\n",
    "\n",
    "findspark.init()\n",
    "findspark.find()\n",
    "\n",
    "random.seed(15)\n",
    "conf = (SparkConf().setMaster('local[2]').setAppName('TextUpdater').set('spark.executer.memory', '2g'))\n",
    "sc = SparkContext(conf=conf)\n",
    "ssc = StreamingContext(sparkContext=sc, batchDuration=10)\n",
    "ssc.checkpoint('checkpoint')"
   ]
  },
  {
   "cell_type": "code",
   "execution_count": null,
   "id": "426a2d31-e064-4b8f-8b21-6ebc3d5e6a80",
   "metadata": {},
   "outputs": [],
   "source": [
    "lines = ssc.socketTextStream(\"localhost\", 5555)\n",
    "\n",
    "# Transformations on the DStream\n",
    "words_dstream = lines.flatMap(lambda line: line.split(\" \"))\n",
    "word_pairs_dstream = words_dstream.map(lambda word: (word, 1))\n",
    "\n",
    "# calculate number of received words in last 30 seconds, every 10 seconds\n",
    "word_pairs_dstream.countByWindow(windowDuration=30, slideDuration=10).pprint() \n",
    "\n",
    "ssc.start()\n",
    "ssc.awaitTermination()"
   ]
  },
  {
   "cell_type": "code",
   "execution_count": null,
   "id": "3902fd01-d497-4ba4-af68-ca1b95524f44",
   "metadata": {},
   "outputs": [],
   "source": []
  },
  {
   "cell_type": "code",
   "execution_count": null,
   "id": "9820b7b4-dcf2-4a85-b150-7a3174ab37bc",
   "metadata": {},
   "outputs": [],
   "source": []
  }
 ],
 "metadata": {
  "kernelspec": {
   "display_name": "Python 3 (ipykernel)",
   "language": "python",
   "name": "python3"
  },
  "language_info": {
   "codemirror_mode": {
    "name": "ipython",
    "version": 3
   },
   "file_extension": ".py",
   "mimetype": "text/x-python",
   "name": "python",
   "nbconvert_exporter": "python",
   "pygments_lexer": "ipython3",
   "version": "3.11.0"
  }
 },
 "nbformat": 4,
 "nbformat_minor": 5
}
