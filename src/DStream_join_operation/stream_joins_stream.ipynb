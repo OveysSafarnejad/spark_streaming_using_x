{
 "cells": [
  {
   "cell_type": "code",
   "execution_count": 1,
   "id": "307e739b-eb68-42d6-8cc6-00aeeec405ba",
   "metadata": {},
   "outputs": [],
   "source": [
    "import os\n",
    "import pathlib\n",
    "\n",
    "import findspark\n",
    "\n",
    "prj_dir = pathlib.Path().resolve().parent.parent\n",
    "spark_home = os.path.join(prj_dir / 'spark-3.5.0-bin-hadoop3')\n",
    "\n",
    "findspark.init(spark_home)\n",
    "\n",
    "from pyspark import SparkConf, SparkContext\n",
    "from pyspark.streaming import StreamingContext\n",
    "\n",
    "\n",
    "conf = SparkConf().setMaster('local[2]').setAppName('Join Operation').set('spark.executer.memory', '2g')\n",
    "sc = SparkContext(conf=conf)\n",
    "ssc = StreamingContext(sparkContext=sc, batchDuration=5)"
   ]
  },
  {
   "cell_type": "code",
   "execution_count": 3,
   "id": "1b6eeeba-409c-4a0b-8091-fb4cde302df8",
   "metadata": {},
   "outputs": [],
   "source": [
    "queued_rdds = []\n",
    "\n",
    "for i in range(5):\n",
    "    rdd = ssc.sparkContext.parallelize(range(1000))\n",
    "    queued_rdds.append(rdd)\n"
   ]
  },
  {
   "cell_type": "code",
   "execution_count": 4,
   "id": "8488eb3e-532d-4072-be42-67cd2f437c25",
   "metadata": {},
   "outputs": [],
   "source": [
    "queue_stream = ssc.queueStream(queued_rdds)"
   ]
  },
  {
   "cell_type": "code",
   "execution_count": 6,
   "id": "30bdf184-6038-4166-8ab2-b9b58ea384ce",
   "metadata": {},
   "outputs": [],
   "source": [
    "ten_remainders = queue_stream.map(lambda x: (x % 10, 1)).reduceByKey(lambda x, y: x + y)\n",
    "five_remainders = queue_stream.map(lambda x: (x % 5, 1)).reduceByKey(lambda x, y: x + y)\n",
    "\n",
    "ten_remainders.join(five_remainders).pprint()"
   ]
  },
  {
   "cell_type": "code",
   "execution_count": 7,
   "id": "ead482be-f477-4f40-b0cb-33c8d04b1f64",
   "metadata": {},
   "outputs": [
    {
     "name": "stderr",
     "output_type": "stream",
     "text": [
      "                                                                                \r"
     ]
    },
    {
     "name": "stdout",
     "output_type": "stream",
     "text": [
      "-------------------------------------------\n",
      "Time: 2023-11-20 14:27:45\n",
      "-------------------------------------------\n",
      "(0, (100, 200))\n",
      "(2, (100, 200))\n",
      "(4, (100, 200))\n",
      "(1, (100, 200))\n",
      "(3, (100, 200))\n",
      "\n",
      "-------------------------------------------\n",
      "Time: 2023-11-20 14:27:45\n",
      "-------------------------------------------\n",
      "(0, (100, 200))\n",
      "(2, (100, 200))\n",
      "(4, (100, 200))\n",
      "(1, (100, 200))\n",
      "(3, (100, 200))\n",
      "\n"
     ]
    }
   ],
   "source": [
    "ssc.start()"
   ]
  },
  {
   "cell_type": "code",
   "execution_count": null,
   "id": "1ed9906a-2289-43e4-b41d-a92441f46203",
   "metadata": {},
   "outputs": [],
   "source": [
    "ssc.stop()"
   ]
  }
 ],
 "metadata": {
  "kernelspec": {
   "display_name": "Python 3 (ipykernel)",
   "language": "python",
   "name": "python3"
  },
  "language_info": {
   "codemirror_mode": {
    "name": "ipython",
    "version": 3
   },
   "file_extension": ".py",
   "mimetype": "text/x-python",
   "name": "python",
   "nbconvert_exporter": "python",
   "pygments_lexer": "ipython3",
   "version": "3.10.11"
  }
 },
 "nbformat": 4,
 "nbformat_minor": 5
}
