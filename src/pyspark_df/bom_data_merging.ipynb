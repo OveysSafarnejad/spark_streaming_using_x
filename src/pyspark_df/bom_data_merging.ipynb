{
 "cells": [
  {
   "cell_type": "code",
   "execution_count": 19,
   "id": "9b76f40a-4c38-4fda-9172-3ff2662e1996",
   "metadata": {},
   "outputs": [],
   "source": [
    "from pyspark.sql import SparkSession\n",
    "from pyspark.sql import functions as sql_functions\n"
   ]
  },
  {
   "cell_type": "code",
   "execution_count": 17,
   "id": "dcb94081-5f18-4f1d-8ae1-9bf3c6205e05",
   "metadata": {},
   "outputs": [
    {
     "name": "stderr",
     "output_type": "stream",
     "text": [
      "24/04/07 14:25:53 WARN SparkSession: Using an existing Spark session; only runtime SQL configurations will take effect.\n"
     ]
    }
   ],
   "source": [
    "spark = SparkSession.builder.master('local[2]').appName('BOM management app').getOrCreate()"
   ]
  },
  {
   "cell_type": "markdown",
   "id": "6fb843ad-6cbd-44d5-b6a8-9ea09e23d491",
   "metadata": {},
   "source": [
    "# parquet source"
   ]
  },
  {
   "cell_type": "code",
   "execution_count": 135,
   "id": "c267cc78-9464-4622-9fe8-63e97b40a75d",
   "metadata": {},
   "outputs": [
    {
     "name": "stdout",
     "output_type": "stream",
     "text": [
      "+--------+------------+--------------------+--------+--------+----------+------------+-------------+------------+\n",
      "|Part_Num|Product_Name| Product_Description|Quantity|EOL_Date|Unit_Price|Availability|Random_Column|Manufacturer|\n",
      "+--------+------------+--------------------+--------+--------+----------+------------+-------------+------------+\n",
      "|18181818|      'wxyz'|'Sed dont ut labo...|      19| 05-2024|        75|           1|       0.6239|'company 12'|\n",
      "|26262626|    '234567'|'Sed do eitempor ...|      16| 11-2024|        77|           1|       0.7854| 'company 2'|\n",
      "|13131313|    'mnopqr'|            'Duisur'|      15| 08-2023|        80|           1|       0.7412| 'company 7'|\n",
      "|15151515|  'yzabcdef'|'Sunt im id est l...|      22| 11-2025|       120|           1|       0.5421| 'company 7'|\n",
      "|16161616|'ghijklmnop'|    'Lorer sit amet'|      28| 02-2026|        85|           1|       0.3021|'company 10'|\n",
      "|23232323|    '567890'|           'Sunorum'|      21| 04-2025|       115|           1|       0.6213| 'company 5'|\n",
      "|24242424|    '012345'|          'Loreamet'|      29| 12-2025|        82|           1|       0.1245| 'company 5'|\n",
      "|14141414|    'stuvwx'|       'Exceptident'|      35| 07-2026|        67|           1|       0.4523| 'company 3'|\n",
      "|17171717|    'qrstuv'|       'Consectetut'|      32| 10-2027|        60|           0|       0.9214|'company 11'|\n",
      "|12312312|   'sdadasd'|          'sadasdas'|      12| 01-2026|       123|           1|       0.6234| 'company 1'|\n",
      "|12312312|   'sdadasd'|            'sadas '|      12| 01-2026|       123|           1|       0.1321| 'company 1'|\n",
      "|10101010|       'xyz'|        'Sed driqua'|      18| 04-2024|        72|           1|       0.7845| 'company 3'|\n",
      "|78978978|    'foobar'|            'Conlit'|      25| 09-2027|        55|           0|       0.8965| 'company 1'|\n",
      "|45645645|    'qwerty'|            'Lorem '|      30| 06-2025|        89|           1|       0.4621| 'company 2'|\n",
      "|19191919|    '123456'|            'Utniam'|      45| 01-2028|       110|           1|       0.7842|'company 13'|\n",
      "|25252525|    '678901'|             'Const'|      33| 03-2027|        57|           0|       0.9521|'company 14'|\n",
      "|11111111|    'abcdef'|              'Ut m'|      40| 12-2026|       105|           1|       0.9812| 'company 5'|\n",
      "|20202020|    '789012'|               'Qui'|      24| 09-2025|       100|           1|       0.1568|'company 12'|\n",
      "|22222222|    '901234'|               'Ext'|      38| 08-2026|        65|           1|       0.7845| 'company 5'|\n",
      "|21212121|    '345678'|               'Dui'|      17| 06-2023|        90|           1|       0.4512| 'company 1'|\n",
      "+--------+------------+--------------------+--------+--------+----------+------------+-------------+------------+\n",
      "\n"
     ]
    }
   ],
   "source": [
    "parquet_df = spark.read.format('parquet').load('./bom_sources/parquets')\n",
    "parquet_df.show()"
   ]
  },
  {
   "cell_type": "code",
   "execution_count": 136,
   "id": "b7cd4457-b57a-4643-a458-c917ea9cabf0",
   "metadata": {},
   "outputs": [],
   "source": [
    "from functools import reduce\n"
   ]
  },
  {
   "cell_type": "code",
   "execution_count": 137,
   "id": "837e9a58-3abb-4ffc-8648-9a829a6eb2c9",
   "metadata": {},
   "outputs": [
    {
     "name": "stdout",
     "output_type": "stream",
     "text": [
      "+--------+------------+--------------------+--------+-------+-----+------------+--------+------------+\n",
      "|    p_id|        name|         description|quantity|    eol|price|availability|rand_col| manufacture|\n",
      "+--------+------------+--------------------+--------+-------+-----+------------+--------+------------+\n",
      "|18181818|      'wxyz'|'Sed dont ut labo...|      19|05-2024|   75|           1|  0.6239|'company 12'|\n",
      "|26262626|    '234567'|'Sed do eitempor ...|      16|11-2024|   77|           1|  0.7854| 'company 2'|\n",
      "|13131313|    'mnopqr'|            'Duisur'|      15|08-2023|   80|           1|  0.7412| 'company 7'|\n",
      "|15151515|  'yzabcdef'|'Sunt im id est l...|      22|11-2025|  120|           1|  0.5421| 'company 7'|\n",
      "|16161616|'ghijklmnop'|    'Lorer sit amet'|      28|02-2026|   85|           1|  0.3021|'company 10'|\n",
      "|23232323|    '567890'|           'Sunorum'|      21|04-2025|  115|           1|  0.6213| 'company 5'|\n",
      "|24242424|    '012345'|          'Loreamet'|      29|12-2025|   82|           1|  0.1245| 'company 5'|\n",
      "|14141414|    'stuvwx'|       'Exceptident'|      35|07-2026|   67|           1|  0.4523| 'company 3'|\n",
      "|17171717|    'qrstuv'|       'Consectetut'|      32|10-2027|   60|           0|  0.9214|'company 11'|\n",
      "|12312312|   'sdadasd'|          'sadasdas'|      12|01-2026|  123|           1|  0.6234| 'company 1'|\n",
      "|12312312|   'sdadasd'|            'sadas '|      12|01-2026|  123|           1|  0.1321| 'company 1'|\n",
      "|10101010|       'xyz'|        'Sed driqua'|      18|04-2024|   72|           1|  0.7845| 'company 3'|\n",
      "|78978978|    'foobar'|            'Conlit'|      25|09-2027|   55|           0|  0.8965| 'company 1'|\n",
      "|45645645|    'qwerty'|            'Lorem '|      30|06-2025|   89|           1|  0.4621| 'company 2'|\n",
      "|19191919|    '123456'|            'Utniam'|      45|01-2028|  110|           1|  0.7842|'company 13'|\n",
      "|25252525|    '678901'|             'Const'|      33|03-2027|   57|           0|  0.9521|'company 14'|\n",
      "|11111111|    'abcdef'|              'Ut m'|      40|12-2026|  105|           1|  0.9812| 'company 5'|\n",
      "|20202020|    '789012'|               'Qui'|      24|09-2025|  100|           1|  0.1568|'company 12'|\n",
      "|22222222|    '901234'|               'Ext'|      38|08-2026|   65|           1|  0.7845| 'company 5'|\n",
      "|21212121|    '345678'|               'Dui'|      17|06-2023|   90|           1|  0.4512| 'company 1'|\n",
      "+--------+------------+--------------------+--------+-------+-----+------------+--------+------------+\n",
      "\n"
     ]
    }
   ],
   "source": [
    "\n",
    "oldColumns = parquet_df.schema.names\n",
    "newColumns = [\"p_id\", \"name\", \"description\", \"quantity\", \"eol\", \"price\", \"availability\", \"rand_col\", \"manufacture\"]\n",
    "\n",
    "\n",
    "my_func = lambda input_df, idx: input_df.withColumnRenamed(oldColumns[idx], newColumns[idx])\n",
    "\n",
    "parquet_df = reduce(\n",
    "    my_func,\n",
    "    range(len(oldColumns)),\n",
    "    parquet_df\n",
    ")\n",
    "\n",
    "parquet_df.show()"
   ]
  },
  {
   "cell_type": "code",
   "execution_count": 138,
   "id": "764ab522-7e1b-4fd0-b647-c1d34c497d36",
   "metadata": {},
   "outputs": [
    {
     "name": "stdout",
     "output_type": "stream",
     "text": [
      "+--------+------------+--------+-------+-----+------------+------------+\n",
      "|    p_id|        name|quantity|    eol|price|availability| manufacture|\n",
      "+--------+------------+--------+-------+-----+------------+------------+\n",
      "|18181818|      'wxyz'|      19|05-2024|   75|           1|'company 12'|\n",
      "|26262626|    '234567'|      16|11-2024|   77|           1| 'company 2'|\n",
      "|13131313|    'mnopqr'|      15|08-2023|   80|           1| 'company 7'|\n",
      "|15151515|  'yzabcdef'|      22|11-2025|  120|           1| 'company 7'|\n",
      "|16161616|'ghijklmnop'|      28|02-2026|   85|           1|'company 10'|\n",
      "|23232323|    '567890'|      21|04-2025|  115|           1| 'company 5'|\n",
      "|24242424|    '012345'|      29|12-2025|   82|           1| 'company 5'|\n",
      "|14141414|    'stuvwx'|      35|07-2026|   67|           1| 'company 3'|\n",
      "|17171717|    'qrstuv'|      32|10-2027|   60|           0|'company 11'|\n",
      "|12312312|   'sdadasd'|      12|01-2026|  123|           1| 'company 1'|\n",
      "|12312312|   'sdadasd'|      12|01-2026|  123|           1| 'company 1'|\n",
      "|10101010|       'xyz'|      18|04-2024|   72|           1| 'company 3'|\n",
      "|78978978|    'foobar'|      25|09-2027|   55|           0| 'company 1'|\n",
      "|45645645|    'qwerty'|      30|06-2025|   89|           1| 'company 2'|\n",
      "|19191919|    '123456'|      45|01-2028|  110|           1|'company 13'|\n",
      "|25252525|    '678901'|      33|03-2027|   57|           0|'company 14'|\n",
      "|11111111|    'abcdef'|      40|12-2026|  105|           1| 'company 5'|\n",
      "|20202020|    '789012'|      24|09-2025|  100|           1|'company 12'|\n",
      "|22222222|    '901234'|      38|08-2026|   65|           1| 'company 5'|\n",
      "|21212121|    '345678'|      17|06-2023|   90|           1| 'company 1'|\n",
      "+--------+------------+--------+-------+-----+------------+------------+\n",
      "\n"
     ]
    }
   ],
   "source": [
    "parquet_df = parquet_df.drop('description').drop('rand_col')\n",
    "parquet_df.show()"
   ]
  },
  {
   "cell_type": "code",
   "execution_count": 154,
   "id": "226d8670-4116-4eb9-95d0-2c86238f361c",
   "metadata": {},
   "outputs": [
    {
     "name": "stdout",
     "output_type": "stream",
     "text": [
      "+--------+----------+--------+----------+-----+------------+-----------+\n",
      "|    p_id|      name|quantity|       eol|price|availability|manufacture|\n",
      "+--------+----------+--------+----------+-----+------------+-----------+\n",
      "|26262626|    234567|      16|2025-02-01| 77.0|           1|  company 2|\n",
      "|18181818|      wxyz|      19|2024-08-01| 75.0|           1| company 12|\n",
      "|15151515|  yzabcdef|      22|2026-02-01|120.0|           1|  company 7|\n",
      "|23232323|    567890|      21|2025-07-01|115.0|           1|  company 5|\n",
      "|14141414|    stuvwx|      35|2026-10-01| 67.0|           1|  company 3|\n",
      "|16161616|ghijklmnop|      28|2026-05-01| 85.0|           1| company 10|\n",
      "|24242424|    012345|      29|2026-03-01| 82.0|           1|  company 5|\n",
      "|12312312|   sdadasd|      12|2026-04-01|123.0|           1|  company 1|\n",
      "|17171717|    qrstuv|      32|2028-01-01| 60.0|           0| company 11|\n",
      "|10101010|       xyz|      18|2024-07-01| 72.0|           1|  company 3|\n",
      "|45645645|    qwerty|      30|2025-09-01| 89.0|           1|  company 2|\n",
      "|78978978|    foobar|      25|2027-12-01| 55.0|           0|  company 1|\n",
      "|11111111|    abcdef|      40|2027-03-01|105.0|           1|  company 5|\n",
      "|25252525|    678901|      33|2027-06-01| 57.0|           0| company 14|\n",
      "|19191919|    123456|      45|2028-04-01|110.0|           1| company 13|\n",
      "|20202020|    789012|      24|2025-12-01|100.0|           1| company 12|\n",
      "|22222222|    901234|      38|2026-11-01| 65.0|           1|  company 5|\n",
      "+--------+----------+--------+----------+-----+------------+-----------+\n",
      "\n"
     ]
    }
   ],
   "source": [
    "from datetime import datetime\n",
    "\n",
    "parquet_df = parquet_df \\\n",
    "    .withColumn('name', sql_functions.regexp_replace('name', \"'\", '')) \\\n",
    "    .withColumn('manufacture', sql_functions.regexp_replace('manufacture', \"'\", '')) \\\n",
    "    .withColumn('price', sql_functions.col('price').cast('float')) \\\n",
    "    .withColumn('eol', sql_functions.add_months(sql_functions.to_date('eol', 'MM-yyyy'), 1))\n",
    "parquet_df.show()"
   ]
  },
  {
   "cell_type": "markdown",
   "id": "7e6ecde8-e4db-4522-8e5b-2a7fd39139da",
   "metadata": {},
   "source": [
    "# csv source"
   ]
  },
  {
   "cell_type": "code",
   "execution_count": 157,
   "id": "478c00a4-5f35-4b71-af36-404da676ebf3",
   "metadata": {},
   "outputs": [
    {
     "name": "stdout",
     "output_type": "stream",
     "text": [
      "+-----------+------------+--------------------+--------+-------+----------+------------+-----+\n",
      "|Part_Number|        Name|         Description|Quantity|    EOL|Unit_Price|Manufacturer|avail|\n",
      "+-----------+------------+--------------------+--------+-------+----------+------------+-----+\n",
      "|   12312312|   'sdadasd'|'sadas asdsad asdas'|      12|01-2026|     123.0| 'company 1'|    1|\n",
      "|   45645645|    'qwerty'|'Lorem ipsum dolo...|      30|06-2025|      89.0| 'company 2'|    1|\n",
      "|   78978978|    'foobar'|'Consectetur adip...|      25|09-2027|      55.0| 'company 3'|    0|\n",
      "|   10101010|       'xyz'|'Sed do eiusmod t...|      18|04-2024|      72.0| 'company 4'|    1|\n",
      "|   11111111|    'abcdef'|'Ut enim ad minim...|      40|12-2026|     105.0| 'company 5'|    1|\n",
      "|   12121212|    'ghijkl'|'Quis nostrud exe...|      20|03-2025|      95.0| 'company 6'|    1|\n",
      "|   13131313|    'mnopqr'|'Duis aute irure ...|      15|08-2023|      80.0| 'company 7'|    1|\n",
      "|   14141414|    'stuvwx'|'Excepteur sint o...|      35|07-2026|      67.0| 'company 8'|    1|\n",
      "|   15151515|  'yzabcdef'|'Sunt in culpa qu...|      22|11-2025|     120.0| 'company 9'|    1|\n",
      "|   16161616|'ghijklmnop'|'Lorem ipsum dolo...|      28|02-2026|      85.0|'company 10'|    1|\n",
      "|   17171717|    'qrstuv'|'Consectetur adip...|      32|10-2027|      60.0|'company 11'|    0|\n",
      "|   18181818|      'wxyz'|'Sed do eiusmod t...|      19|05-2024|      75.0|'company 12'|    1|\n",
      "|   19191919|    '123456'|'Ut enim ad minim...|      45|01-2028|     110.0|'company 13'|    1|\n",
      "|   20202020|    '789012'|'Quis nostrud exe...|      24|09-2025|     100.0|'company 14'|    1|\n",
      "|   21212121|    '345678'|'Duis aute irure ...|      17|06-2023|      90.0|'company 15'|    1|\n",
      "|   22222222|    '901234'|'Excepteur sint o...|      38|08-2026|      65.0|'company 16'|    1|\n",
      "|   23232323|    '567890'|'Sunt in culpa qu...|      21|04-2025|     115.0|'company 17'|    1|\n",
      "|   24242424|    '012345'|'Lorem ipsum dolo...|      29|12-2025|      82.0|'company 18'|    1|\n",
      "|   25252525|    '678901'|'Consectetur adip...|      33|03-2027|      57.0|'company 19'|    0|\n",
      "|   26262626|    '234567'|'Sed do eiusmod t...|      16|11-2024|      77.0|'company 20'|    1|\n",
      "+-----------+------------+--------------------+--------+-------+----------+------------+-----+\n",
      "only showing top 20 rows\n",
      "\n"
     ]
    }
   ],
   "source": [
    "csv_schema = StructType()\\\n",
    "    .add('Part_Number', 'integer') \\\n",
    "    .add('Name', 'string') \\\n",
    "    .add('Description', 'string') \\\n",
    "    .add('Quantity', 'integer') \\\n",
    "    .add('EOL', 'string') \\\n",
    "    .add('Unit_Price', 'float') \\\n",
    "    .add('Manufacturer', 'string') \\\n",
    "    .add('avail', 'integer')\n",
    "\n",
    "\n",
    "csv_df = spark.read.format('csv').option('header', 'true').schema(csv_schema).load('./bom_sources/source_1.csv')\n",
    "csv_df.show()"
   ]
  },
  {
   "cell_type": "code",
   "execution_count": 160,
   "id": "5488e5d4-fb2b-4216-a9c5-e6ae4750c8dd",
   "metadata": {},
   "outputs": [],
   "source": [
    "old_columns = csv_df.schema.names\n",
    "new_columns = [\"p_id\", \"name\", \"description\", \"quantity\", \"eol\", \"price\", \"manufacture\", \"availability\"]"
   ]
  },
  {
   "cell_type": "code",
   "execution_count": 161,
   "id": "962ead9e-6e57-44af-afc0-2dc50690640c",
   "metadata": {},
   "outputs": [],
   "source": [
    "csv_df = reduce(\n",
    "    lambda input_df, idx: input_df.withColumnRenamed(old_columns[idx], new_columns[idx]),\n",
    "    range(len(old_columns)),\n",
    "    csv_df\n",
    ")"
   ]
  },
  {
   "cell_type": "code",
   "execution_count": 179,
   "id": "e88de38c-7d5e-41d2-9e4e-8456952d2df9",
   "metadata": {},
   "outputs": [
    {
     "name": "stdout",
     "output_type": "stream",
     "text": [
      "+--------+----------+--------+----------+-----+------------+-----------+\n",
      "|    p_id|      name|quantity|       eol|price|availability|manufacture|\n",
      "+--------+----------+--------+----------+-----+------------+-----------+\n",
      "|12312312|   sdadasd|      12|2026-02-01|123.0|           1|  company 1|\n",
      "|45645645|    qwerty|      30|2025-07-01| 89.0|           1|  company 2|\n",
      "|78978978|    foobar|      25|2027-10-01| 55.0|           0|  company 3|\n",
      "|10101010|       xyz|      18|2024-05-01| 72.0|           1|  company 4|\n",
      "|11111111|    abcdef|      40|2027-01-01|105.0|           1|  company 5|\n",
      "|12121212|    ghijkl|      20|2025-04-01| 95.0|           1|  company 6|\n",
      "|13131313|    mnopqr|      15|2023-09-01| 80.0|           1|  company 7|\n",
      "|14141414|    stuvwx|      35|2026-08-01| 67.0|           1|  company 8|\n",
      "|15151515|  yzabcdef|      22|2025-12-01|120.0|           1|  company 9|\n",
      "|16161616|ghijklmnop|      28|2026-03-01| 85.0|           1| company 10|\n",
      "|17171717|    qrstuv|      32|2027-11-01| 60.0|           0| company 11|\n",
      "|18181818|      wxyz|      19|2024-06-01| 75.0|           1| company 12|\n",
      "|19191919|    123456|      45|2028-02-01|110.0|           1| company 13|\n",
      "|20202020|    789012|      24|2025-10-01|100.0|           1| company 14|\n",
      "|21212121|    345678|      17|2023-07-01| 90.0|           1| company 15|\n",
      "|22222222|    901234|      38|2026-09-01| 65.0|           1| company 16|\n",
      "|23232323|    567890|      21|2025-05-01|115.0|           1| company 17|\n",
      "|24242424|    012345|      29|2026-01-01| 82.0|           1| company 18|\n",
      "|25252525|    678901|      33|2027-04-01| 57.0|           0| company 19|\n",
      "|26262626|    234567|      16|2024-12-01| 77.0|           1| company 20|\n",
      "|27272727|    890123|      42|2028-08-01|125.0|           1|  company 1|\n",
      "|28282828|    456789|      23|2025-06-01|105.0|           1|  company 2|\n",
      "|29292929|    012345|      14|2023-02-01| 87.0|           1|  company 3|\n",
      "|30303030|    678901|      36|2026-11-01| 62.0|           1|  company 4|\n",
      "|31313131|    234567|      25|2025-03-01|120.0|           1|  company 5|\n",
      "|32323232|    890123|      31|2027-01-01| 85.0|           1|  company 6|\n",
      "|33333333|    456789|      34|2027-08-01| 60.0|           0|  company 7|\n",
      "|34343434|    012345|      18|2024-05-01| 75.0|           1|  company 8|\n",
      "|35353535|    678901|      40|2029-02-01|110.0|           1|  company 9|\n",
      "|36363636|    234567|      19|2025-10-01|100.0|           1| company 10|\n",
      "|37373737|    890123|      45|2023-07-01| 90.0|           1| company 11|\n",
      "|38383838|    456789|      24|2026-09-01| 65.0|           1| company 12|\n",
      "|39393939|    012345|      28|2025-05-01|115.0|           1| company 13|\n",
      "|40404040|    678901|      32|2026-01-01| 82.0|           1| company 14|\n",
      "|41414141|    234567|      22|2027-04-01| 57.0|           0| company 15|\n",
      "|42424242|    890123|      16|2024-12-01| 77.0|           1| company 16|\n",
      "|43434343|    456789|      42|2028-08-01|125.0|           1| company 17|\n",
      "|44444444|    012345|      23|2025-06-01|105.0|           1| company 18|\n",
      "|45454545|    678901|      14|2023-02-01| 87.0|           1| company 19|\n",
      "|46464646|    234567|      36|2026-11-01| 62.0|           1| company 20|\n",
      "|47474747|    890123|      25|2025-03-01|120.0|           1|  company 1|\n",
      "|48484848|    456789|      31|2027-01-01| 85.0|           1|  company 2|\n",
      "|49494949|    012345|      34|2027-08-01| 60.0|           0|  company 3|\n",
      "|50505050|    678901|      18|      NULL| NULL|        NULL|       NULL|\n",
      "+--------+----------+--------+----------+-----+------------+-----------+\n",
      "\n"
     ]
    }
   ],
   "source": [
    "csv_data = csv_df \\\n",
    "    .drop('description') \\\n",
    "    .withColumn('name', sql_functions.regexp_replace('name',\"'\", \"\")) \\\n",
    "    .withColumn('manufacture', sql_functions.regexp_replace('manufacture', \"'\", \"\")) \\\n",
    "    .withColumn('eol', sql_functions.add_months(sql_functions.to_date('eol', \"MM-yyyy\"), 1))\n",
    "\n",
    "csv_data = csv_data.select('p_id', 'name', 'quantity', 'eol', 'price', 'availability', 'manufacture')\n",
    "csv_data.show(200)\n"
   ]
  },
  {
   "cell_type": "markdown",
   "id": "f2d67aee-169c-4287-9717-99bbc8d30a82",
   "metadata": {},
   "source": [
    "# json source"
   ]
  },
  {
   "cell_type": "code",
   "execution_count": 169,
   "id": "ec965d61-b1f2-406b-9f12-5d9648eb7abd",
   "metadata": {},
   "outputs": [
    {
     "name": "stdout",
     "output_type": "stream",
     "text": [
      "+--------+------------+--------+-------+-----+------------+------------+\n",
      "|    p_id|        name|quantity|    eol|price|availability| manufacture|\n",
      "+--------+------------+--------+-------+-----+------------+------------+\n",
      "|12312312|   'sdadasd'|      12|01-2026|  123|           1| 'company 1'|\n",
      "|45645645|    'qwerty'|      30|06-2025|   89|           1| 'company 2'|\n",
      "|78978978|    'foobar'|      25|09-2027|   55|           0| 'company 3'|\n",
      "|10101010|       'xyz'|      18|04-2024|   72|           1| 'company 4'|\n",
      "|11111111|    'abcdef'|      40|12-2026|  105|           1| 'company 5'|\n",
      "|12312312|   'sdadasd'|      12|01-2026|  123|           1| 'company 1'|\n",
      "|13131313|    'mnopqr'|      15|08-2023|   80|           1| 'company 7'|\n",
      "|14141414|    'stuvwx'|      35|07-2026|   67|           1| 'company 8'|\n",
      "|15151515|  'yzabcdef'|      22|11-2025|  120|           1| 'company 9'|\n",
      "|16161616|'ghijklmnop'|      28|02-2026|   85|           1|'company 10'|\n",
      "|17171717|    'qrstuv'|      32|10-2027|   60|           0|'company 11'|\n",
      "|18181818|      'wxyz'|      19|05-2024|   75|           1|'company 12'|\n",
      "|19191919|    '123456'|      45|01-2028|  110|           1|'company 13'|\n",
      "|20202020|    '789012'|      24|09-2025|  100|           1|'company 14'|\n",
      "|21212121|    '345678'|      17|06-2023|   90|           1|'company 15'|\n",
      "|22222222|    '901234'|      38|08-2026|   65|           1|'company 16'|\n",
      "|23232323|    '567890'|      21|04-2025|  115|           1|'company 17'|\n",
      "|24242424|    '012345'|      29|12-2025|   82|           1|'company 18'|\n",
      "|25252525|    '678901'|      33|03-2027|   57|           0|'company 19'|\n",
      "|26262626|    '234567'|      16|11-2024|   77|           1|'company 20'|\n",
      "+--------+------------+--------+-------+-----+------------+------------+\n",
      "\n"
     ]
    }
   ],
   "source": [
    "\n",
    "json_df = spark.read.format('json').option(\"multiline\", \"true\").load('./bom_sources/boms.json')\n",
    "json_df = json_df.select(\n",
    "    sql_functions.col('Part_Num').alias('p_id'),\n",
    "    sql_functions.col('Product_Name').alias('name'),\n",
    "    sql_functions.col('Quantity').alias('quantity'),\n",
    "    sql_functions.col('EOL_Date').alias('eol'),\n",
    "    sql_functions.col('Unit_Price').alias('price'),\n",
    "    sql_functions.col('Availability').alias('availability'),\n",
    "    sql_functions.col('Manufacturer').alias('manufacture')\n",
    "\n",
    ")\n",
    "json_df.show()"
   ]
  },
  {
   "cell_type": "code",
   "execution_count": 178,
   "id": "468ca351-0f8e-40d0-ab06-a0ee4a8aeb0f",
   "metadata": {},
   "outputs": [
    {
     "name": "stdout",
     "output_type": "stream",
     "text": [
      "+--------+----------+--------+----------+-----+------------+-----------+\n",
      "|    p_id|      name|quantity|       eol|price|availability|manufacture|\n",
      "+--------+----------+--------+----------+-----+------------+-----------+\n",
      "|12312312|   sdadasd|      12|2026-03-01|123.0|           1|  company 1|\n",
      "|45645645|    qwerty|      30|2025-08-01| 89.0|           1|  company 2|\n",
      "|78978978|    foobar|      25|2027-11-01| 55.0|           0|  company 3|\n",
      "|10101010|       xyz|      18|2024-06-01| 72.0|           1|  company 4|\n",
      "|11111111|    abcdef|      40|2027-02-01|105.0|           1|  company 5|\n",
      "|12312312|   sdadasd|      12|2026-03-01|123.0|           1|  company 1|\n",
      "|13131313|    mnopqr|      15|2023-10-01| 80.0|           1|  company 7|\n",
      "|14141414|    stuvwx|      35|2026-09-01| 67.0|           1|  company 8|\n",
      "|15151515|  yzabcdef|      22|2026-01-01|120.0|           1|  company 9|\n",
      "|16161616|ghijklmnop|      28|2026-04-01| 85.0|           1| company 10|\n",
      "|17171717|    qrstuv|      32|2027-12-01| 60.0|           0| company 11|\n",
      "|18181818|      wxyz|      19|2024-07-01| 75.0|           1| company 12|\n",
      "|19191919|    123456|      45|2028-03-01|110.0|           1| company 13|\n",
      "|20202020|    789012|      24|2025-11-01|100.0|           1| company 14|\n",
      "|21212121|    345678|      17|2023-08-01| 90.0|           1| company 15|\n",
      "|22222222|    901234|      38|2026-10-01| 65.0|           1| company 16|\n",
      "|23232323|    567890|      21|2025-06-01|115.0|           1| company 17|\n",
      "|24242424|    012345|      29|2026-02-01| 82.0|           1| company 18|\n",
      "|25252525|    678901|      33|2027-05-01| 57.0|           0| company 19|\n",
      "|26262626|    234567|      16|2025-01-01| 77.0|           1| company 20|\n",
      "+--------+----------+--------+----------+-----+------------+-----------+\n",
      "\n"
     ]
    }
   ],
   "source": [
    "json_df = json_df \\\n",
    "    .withColumn('name', sql_functions.regexp_replace('name', \"'\", \"\")) \\\n",
    "    .withColumn('manufacture', sql_functions.regexp_replace('manufacture', \"'\", \"\")) \\\n",
    "    .withColumn('eol', sql_functions.add_months(sql_functions.to_date('eol', 'MM-yyyy'), 1)) \\\n",
    "    .withColumn('price', sql_functions.col('price').cast('float'))\n",
    "\n",
    "json_df.show(200)"
   ]
  },
  {
   "cell_type": "code",
   "execution_count": 196,
   "id": "90bf0931-889c-4271-a7d2-1d6cd767ac2b",
   "metadata": {},
   "outputs": [
    {
     "name": "stdout",
     "output_type": "stream",
     "text": [
      "csv_data.count(), json_df.count(), parquet_df.count() = (44, 20, 17)\n"
     ]
    }
   ],
   "source": [
    "print(f'{csv_data.count(), json_df.count(), parquet_df.count() = }')"
   ]
  },
  {
   "cell_type": "code",
   "execution_count": 199,
   "id": "163b0ef1-e2f5-48ef-8ef9-e4fcf47cac17",
   "metadata": {},
   "outputs": [
    {
     "data": {
      "text/plain": [
       "80"
      ]
     },
     "execution_count": 199,
     "metadata": {},
     "output_type": "execute_result"
    }
   ],
   "source": [
    "parquet_df.union(json_df).union(csv_data).distinct().count()"
   ]
  },
  {
   "cell_type": "code",
   "execution_count": null,
   "id": "0d31be31-4f4e-469d-be4e-9ca3469183e4",
   "metadata": {},
   "outputs": [],
   "source": []
  }
 ],
 "metadata": {
  "kernelspec": {
   "display_name": "Python 3 (ipykernel)",
   "language": "python",
   "name": "python3"
  },
  "language_info": {
   "codemirror_mode": {
    "name": "ipython",
    "version": 3
   },
   "file_extension": ".py",
   "mimetype": "text/x-python",
   "name": "python",
   "nbconvert_exporter": "python",
   "pygments_lexer": "ipython3",
   "version": "3.11.0"
  }
 },
 "nbformat": 4,
 "nbformat_minor": 5
}
