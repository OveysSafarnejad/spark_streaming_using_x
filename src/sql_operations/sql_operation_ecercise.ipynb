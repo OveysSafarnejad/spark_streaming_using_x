{
 "cells": [
  {
   "cell_type": "code",
   "execution_count": 1,
   "id": "f9ce8fc7-302f-472c-9282-578b5d0adb2d",
   "metadata": {},
   "outputs": [
    {
     "name": "stderr",
     "output_type": "stream",
     "text": [
      "Setting default log level to \"WARN\".\n",
      "To adjust logging level use sc.setLogLevel(newLevel). For SparkR, use setLogLevel(newLevel).\n",
      "23/11/20 10:32:34 WARN NativeCodeLoader: Unable to load native-hadoop library for your platform... using builtin-java classes where applicable\n",
      "/Users/audioworkstation/Documents/WORKSPACE/LEARNING/spark_streaming_using_x/.venv/lib/python3.10/site-packages/pyspark/streaming/context.py:72: FutureWarning: DStream is deprecated as of Spark 3.4.0. Migrate to Structured Streaming.\n",
      "  warnings.warn(\n"
     ]
    }
   ],
   "source": [
    "import os\n",
    "import pathlib\n",
    "import re\n",
    "import sys\n",
    "\n",
    "import findspark\n",
    "from operator import add\n",
    "from pyspark import SparkContext\n",
    "from pyspark.streaming import StreamingContext\n",
    "from pyspark.sql import SQLContext, Row, SparkSession\n",
    "from pyspark.sql.functions import regexp_replace, col, trim, lower, desc\n",
    "\n",
    "prj_home = pathlib.Path().resolve().parent.parent\n",
    "spark_home = os.path.join(prj_home / 'spark-3.5.0-bin-hadoop3')\n",
    "findspark.init(spark_home)\n",
    "\n",
    "sc = SparkContext(master='', appName='PySparkSqlContext') # machine that spark runs and the number of worker threads\n",
    "ssc = StreamingContext(sparkContext=sc, batchDuration=20)"
   ]
  },
  {
   "cell_type": "code",
   "execution_count": 2,
   "id": "168d88ce-582f-4120-83b8-cdb2490e002b",
   "metadata": {},
   "outputs": [],
   "source": [
    "def get_spark_session_interface(sparkConf):\n",
    "    if 'sparkSessionSingletonInstance' not in globals():\n",
    "        globals()['sparkSessionSingletonInstance'] = SparkSession.builder.config(conf=sparkConf).getOrCreate()\n",
    "    return globals()['sparkSessionSingletonInstance']"
   ]
  },
  {
   "cell_type": "code",
   "execution_count": 3,
   "id": "ca591bd3-6c7a-4a32-8ca3-1eb5a4a27339",
   "metadata": {},
   "outputs": [],
   "source": [
    "host = '127.0.0.1'\n",
    "port = '5555'\n",
    "\n",
    "lines = ssc.socketTextStream(host, int(port))\n",
    "seprated = lines.flatMap(lambda l: l.split(' '))\n"
   ]
  },
  {
   "cell_type": "code",
   "execution_count": 4,
   "id": "5d103453-521a-4229-a141-a88cd00a43a8",
   "metadata": {},
   "outputs": [],
   "source": [
    "def process(time, rdd):\n",
    "    print(f\"-.-.-.-.-.-.-.-.-.- %s -.-.-.-..-.-.-..-.-.-\" % str(time))\n",
    "    if not rdd.isEmpty():\n",
    "        session = get_spark_session_interface(rdd.context.getConf())\n",
    "        rows_data = rdd.map(lambda word: Row(word_col=word))\n",
    "        words_df = session.createDataFrame(rows_data)\n",
    "        words_df.createOrReplaceTempView('words')\n",
    "\n",
    "        word_count_df = session.sql('select word_col, count(*) from words group by word_col')\n",
    "        word_count_df.show()\n",
    "    \n",
    "    else:\n",
    "        print(\"No stream received!\")\n",
    "\n",
    "seprated.foreachRDD(process)"
   ]
  },
  {
   "cell_type": "code",
   "execution_count": 5,
   "id": "225b9fb4-43bb-4fc2-977b-f07305de2184",
   "metadata": {},
   "outputs": [],
   "source": [
    "ssc.start()"
   ]
  },
  {
   "cell_type": "code",
   "execution_count": null,
   "id": "1b64c6be-01e3-4996-9d5c-72da8007196b",
   "metadata": {},
   "outputs": [
    {
     "name": "stderr",
     "output_type": "stream",
     "text": [
      "[Stage 0:>                                                          (0 + 1) / 1]\r"
     ]
    },
    {
     "name": "stdout",
     "output_type": "stream",
     "text": [
      "-.-.-.-.-.-.-.-.-.- 2023-11-20 10:32:40 -.-.-.-..-.-.-..-.-.-\n",
      "No stream received!\n"
     ]
    },
    {
     "name": "stderr",
     "output_type": "stream",
     "text": [
      "23/11/20 10:32:56 WARN RandomBlockReplicationPolicy: Expecting 1 replicas with only 0 peer/s.\n",
      "23/11/20 10:32:56 WARN BlockManager: Block input-0-1700472775800 replicated to only 0 peer(s) instead of 1 peers\n"
     ]
    },
    {
     "name": "stdout",
     "output_type": "stream",
     "text": [
      "-.-.-.-.-.-.-.-.-.- 2023-11-20 10:33:00 -.-.-.-..-.-.-..-.-.-\n"
     ]
    },
    {
     "name": "stderr",
     "output_type": "stream",
     "text": [
      "23/11/20 10:33:00 WARN RandomBlockReplicationPolicy: Expecting 1 replicas with only 0 peer/s.\n",
      "23/11/20 10:33:00 WARN BlockManager: Block input-0-1700472780600 replicated to only 0 peer(s) instead of 1 peers\n",
      "[Stage 0:>                                                          (0 + 1) / 1]\r"
     ]
    },
    {
     "name": "stdout",
     "output_type": "stream",
     "text": [
      "+--------+--------+\n",
      "|word_col|count(1)|\n",
      "+--------+--------+\n",
      "|   doin?|       1|\n",
      "|     you|       1|\n",
      "|     How|       1|\n",
      "|  Hello.|       1|\n",
      "+--------+--------+\n",
      "\n"
     ]
    },
    {
     "name": "stderr",
     "output_type": "stream",
     "text": [
      "23/11/20 10:33:17 WARN RandomBlockReplicationPolicy: Expecting 1 replicas with only 0 peer/s.\n",
      "23/11/20 10:33:17 WARN BlockManager: Block input-0-1700472797200 replicated to only 0 peer(s) instead of 1 peers\n"
     ]
    },
    {
     "name": "stdout",
     "output_type": "stream",
     "text": [
      "-.-.-.-.-.-.-.-.-.- 2023-11-20 10:33:20 -.-.-.-..-.-.-..-.-.-\n"
     ]
    },
    {
     "name": "stderr",
     "output_type": "stream",
     "text": [
      "                                                                                \r"
     ]
    },
    {
     "name": "stdout",
     "output_type": "stream",
     "text": [
      "+--------+--------+\n",
      "|word_col|count(1)|\n",
      "+--------+--------+\n",
      "|     was|       1|\n",
      "|    your|       1|\n",
      "|     How|       1|\n",
      "|    day?|       1|\n",
      "|     how|       1|\n",
      "|    you?|       1|\n",
      "|     are|       1|\n",
      "+--------+--------+\n",
      "\n"
     ]
    },
    {
     "name": "stderr",
     "output_type": "stream",
     "text": [
      "23/11/20 10:33:33 WARN RandomBlockReplicationPolicy: Expecting 1 replicas with only 0 peer/s.\n",
      "23/11/20 10:33:33 WARN BlockManager: Block input-0-1700472813000 replicated to only 0 peer(s) instead of 1 peers\n",
      "23/11/20 10:33:35 WARN RandomBlockReplicationPolicy: Expecting 1 replicas with only 0 peer/s.\n",
      "23/11/20 10:33:35 WARN BlockManager: Block input-0-1700472815000 replicated to only 0 peer(s) instead of 1 peers\n",
      "23/11/20 10:33:39 WARN RandomBlockReplicationPolicy: Expecting 1 replicas with only 0 peer/s.\n",
      "23/11/20 10:33:39 WARN BlockManager: Block input-0-1700472818800 replicated to only 0 peer(s) instead of 1 peers\n"
     ]
    },
    {
     "name": "stdout",
     "output_type": "stream",
     "text": [
      "-.-.-.-.-.-.-.-.-.- 2023-11-20 10:33:40 -.-.-.-..-.-.-..-.-.-\n"
     ]
    },
    {
     "name": "stderr",
     "output_type": "stream",
     "text": [
      "                                                                                \r"
     ]
    },
    {
     "name": "stdout",
     "output_type": "stream",
     "text": [
      "+--------+--------+\n",
      "|word_col|count(1)|\n",
      "+--------+--------+\n",
      "|     was|       1|\n",
      "|   thing|       1|\n",
      "|      ok|       2|\n",
      "|   every|       1|\n",
      "|       ?|       2|\n",
      "|     ok?|       1|\n",
      "+--------+--------+\n",
      "\n"
     ]
    },
    {
     "name": "stderr",
     "output_type": "stream",
     "text": [
      "[Stage 0:>                                                          (0 + 1) / 1]\r"
     ]
    },
    {
     "name": "stdout",
     "output_type": "stream",
     "text": [
      "-.-.-.-.-.-.-.-.-.- 2023-11-20 10:34:00 -.-.-.-..-.-.-..-.-.-\n",
      "No stream received!\n"
     ]
    }
   ],
   "source": [
    "# ssc.stop(stopGraceFully=True, stopSparkContext=True)\n",
    "ssc.awaitTerminationOrTimeout(timeout=100)"
   ]
  }
 ],
 "metadata": {
  "kernelspec": {
   "display_name": "Python 3 (ipykernel)",
   "language": "python",
   "name": "python3"
  },
  "language_info": {
   "codemirror_mode": {
    "name": "ipython",
    "version": 3
   },
   "file_extension": ".py",
   "mimetype": "text/x-python",
   "name": "python",
   "nbconvert_exporter": "python",
   "pygments_lexer": "ipython3",
   "version": "3.10.11"
  }
 },
 "nbformat": 4,
 "nbformat_minor": 5
}
